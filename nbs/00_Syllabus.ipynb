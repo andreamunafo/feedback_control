{
 "cells": [
  {
   "cell_type": "markdown",
   "id": "816e6867",
   "metadata": {},
   "source": [
    "# Syllabus - Principles of Automatic Control / Fondamenti di Automatica 2023"
   ]
  },
  {
   "cell_type": "code",
   "execution_count": null,
   "id": "8520dff0",
   "metadata": {},
   "outputs": [],
   "source": [
    "#| default_exp syllabus"
   ]
  },
  {
   "cell_type": "code",
   "execution_count": null,
   "id": "bcf51efc",
   "metadata": {},
   "outputs": [],
   "source": [
    "#| hide\n",
    "from nbdev.showdoc import *"
   ]
  },
  {
   "cell_type": "markdown",
   "id": "357a866e",
   "metadata": {},
   "source": [
    "------------------------------"
   ]
  },
  {
   "cell_type": "markdown",
   "id": "ae8d59a5",
   "metadata": {},
   "source": [
    "Instructors: \n",
    "\n",
    "- Andrea Munafo (_andrea.munafo@unipi.it_) and Riccardo Costanzi (_riccardo.costanzi@unipi.it_)\n",
    "\n",
    "Office hours: \n",
    "\n",
    "- After lecture"
   ]
  },
  {
   "cell_type": "markdown",
   "id": "e3764576",
   "metadata": {},
   "source": [
    "<table style='margin: 0 auto' rules=none>\n",
    "    <tr>\n",
    "    <!--td> <img src=\"img/0.robot-and-sensors.png\" alt=\"0.robot\" style=\"height: 500px;\"/> </td-->\n",
    "    <td> <img src=\"img/0.philos-and-sensors.png\" alt=\"0.robot\" style=\"height: 400px;\"/> </td>        \n",
    "    <td> <img src=\"img/0.iNeptune-pMarineViewer-sim3.png\" alt=\"0.iNeptune-pMarineViewer-sim3\" style=\"height: 400px;\"/> </td>    \n",
    "    </tr>\n",
    "</table>\n",
    "\n",
    "<table style='margin: 0 auto' rules=none>\n",
    "    <tr>    \n",
    "    <td> <img src=\"img/0.pathplan_philos_07-21_1312_combined.png\" alt=\"0.pathplan_philos_07-21_1312_combined\" style=\"width: 1000px;\"/> </td>\n",
    "    </tr>\n",
    "</table>"
   ]
  },
  {
   "cell_type": "markdown",
   "id": "79fd31f5",
   "metadata": {},
   "source": [
    "* _C Cesar, B Whetton, P Opgenoorth, M DeFilippo, M Benjamin, A Munafo, Coordinating Multiple Autonomies to Improve Mission Performance, OCEANS 2021 MTS/IEEE, October, 2021._"
   ]
  },
  {
   "cell_type": "markdown",
   "id": "f0d592ea",
   "metadata": {},
   "source": [
    "## Course Meeting Times\n",
    "\n",
    "Lectures: 3 sessions (8h) / week\n",
    "\n",
    "- Monday: 14.00-17:00\n",
    "- Wednesday: 10.30-13:30\n",
    "- Thursday: 08.30-10:30"
   ]
  },
  {
   "cell_type": "markdown",
   "id": "0a721732",
   "metadata": {},
   "source": [
    "## Learning Outcomes\n",
    "\n",
    "- Understand the fundamental principles of automatic control, including concepts such as feedback control, stability, and controllability.\n",
    "- Analyze and design control systems using mathematical models and tools, including Laplace transforms, transfer functions, and block diagrams.\n",
    "- Apply control strategies to various real-world engineering problems, such as temperature control, speed control, etc.\n",
    "- Evaluate the performance of control systems and identify ways to improve them, including adjusting control parameters and modifying system components.\n",
    "- Develop critical thinking and problem-solving skills by applying control principles to novel and complex engineering problems, and communicating their findings effectively.\n",
    "\n",
    "_You will be well-prepared to apply the principles of automatic control to a variety of engineering fields, such as robotics, aerospace, and manufacturing, etc._"
   ]
  },
  {
   "cell_type": "markdown",
   "id": "1e2275e1",
   "metadata": {},
   "source": [
    "## Course Description\n",
    "\n",
    "This course introduces the design of feedback control systems. Topics include the properties and advantages of feedback systems, time-domain and frequency-domain performance measures, stability and degree of stability, the Root locus method, Nyquist criterion, and frequency-domain design.\n",
    "\n",
    "<table>\n",
    "  <tr>\n",
    "    <td style=\"vertical-align:top; text-align:left;\">\n",
    "      <ul>\n",
    "        <li>A bit on Python/Jupyter notebook</li>\n",
    "        <li>Open loop vs Closed Loop</li>\n",
    "        <li>Transfer functions and Laplace transform</li>\n",
    "        <li>Block Diagrams</li>\n",
    "        <li>Reponse of a system</li>          \n",
    "        <li>Frequency response and Bode plots</li>   \n",
    "        <li>Final Value Theorem and Steady State</li>\n",
    "      </ul>\n",
    "    </td>\n",
    "    <td style=\"vertical-align:top; text-align:left;\">\n",
    "      <ul>\n",
    "        <li>System Stability and Control</li>\n",
    "        <li>The Root Locus Method</li>\n",
    "        <li>PID controllers</li>\n",
    "        <li>Gain and phase margins</li>\n",
    "        <li>Sensitivity Functions</li>\n",
    "        <li>Lead/Lag compensators</li>\n",
    "        <li>State space analysis</li>  \n",
    "      </ul>\n",
    "    </td>\n",
    "  </tr>\n",
    "</table>"
   ]
  },
  {
   "cell_type": "markdown",
   "id": "de74c570",
   "metadata": {},
   "source": [
    "## Textbooks\n",
    "\n",
    "In Italian\n",
    "\n",
    "- Bolzern, Scattolini, Schiavoni. Fondamenti di Controlli Automatici, 2nd ed. McGraw-Hill.\n",
    "\n",
    "\n",
    "A useful but not mandatory textbook for this class is:\n",
    "\n",
    "- Ogata, Katsuhiko. Modern Control Engineering. 4th ed. Prentice Hall, 2002.\n",
    "- Richard C. Dorf and Robert H. Bishop IE, Modern Control Systems (13th Edition) "
   ]
  },
  {
   "cell_type": "markdown",
   "id": "88be27b1",
   "metadata": {},
   "source": [
    "Other texts which might be helpful:\n",
    "\n",
    "- G. Marro, Controlli Automatici, Zanichelli\n",
    "\n",
    "- Franklin, Gene, J. David Powell, and Abbas Emami-Naeini. Feedback Control of Dynamic Systems. 6th ed. Prentice Hall, 2009. ISBN: 9780136019695.\n",
    "\n",
    "- Van de Vegte, John. Feedback Control Systems. 3rd ed. Prentice Hall, 1994. ISBN: 9780002085069.\n",
    "\n",
    "- Kuo, Benjamin. Automatic Control Systems. 8th ed. John Wiley & Sons, 2003. ISBN: 9780471381488.\n",
    "\n",
    "- Ogata, Katsuhiko. Solving Control Engineering Problems with MATLAB. Prentice Hall, 1993. ISBN: 9780130459077."
   ]
  },
  {
   "cell_type": "markdown",
   "id": "9ba90090",
   "metadata": {},
   "source": [
    "## The Role of Software in the Study of Feedback Systems\n",
    "\n",
    "- Using a software package like Python or MATLAB is very helpful in the study of Feedback Systems.\n",
    "\n",
    "- The software can best be used initially to check work that is first done traditionally with pencil and paper.\n",
    "- This is particularly helpful when verifying polar plots (Nyquist plots), Bode diagrams and root loci when first attempting to sketch these functions.\n",
    "- Step responses in the time domain can be examined in order to build an intuitive sense of the relations between time and frequency domain behavior.\n",
    "- Simplifying approximations that are often made when carrying out preliminary designs can be checked for validity using Python.\n",
    "- More complex problems can be studied with a computer-aided design package without the enormous burden of doing extensive computations.\n"
   ]
  },
  {
   "cell_type": "markdown",
   "id": "d84d7abf",
   "metadata": {},
   "source": [
    "- We suggest that everyone become familiar with the use of Python or MATLAB.\n",
    "- Remember that the computer is to aid in achieving understanding and should be used intelligently as an engineering tool.\n",
    "- The goal is for you to come away with an understanding of feedback theory in some depth."
   ]
  },
  {
   "cell_type": "markdown",
   "id": "30417be3",
   "metadata": {},
   "source": [
    "`https://andreamunafo.github.io/feedback_control/`"
   ]
  },
  {
   "cell_type": "markdown",
   "id": "ab8e664c",
   "metadata": {},
   "source": [
    "---------------------"
   ]
  },
  {
   "cell_type": "code",
   "execution_count": null,
   "id": "8694f55a",
   "metadata": {},
   "outputs": [],
   "source": [
    "#| hide\n",
    "import nbdev; nbdev.nbdev_export()"
   ]
  },
  {
   "cell_type": "code",
   "execution_count": null,
   "id": "fb61449f",
   "metadata": {},
   "outputs": [],
   "source": []
  }
 ],
 "metadata": {
  "kernelspec": {
   "display_name": "Python 3 (ipykernel)",
   "language": "python",
   "name": "python3"
  }
 },
 "nbformat": 4,
 "nbformat_minor": 5
}
