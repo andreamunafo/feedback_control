{
 "cells": [
  {
   "cell_type": "markdown",
   "id": "568959a9",
   "metadata": {},
   "source": [
    "# Introduction to Frequency Response Methods: Bode Plots"
   ]
  },
  {
   "cell_type": "code",
   "execution_count": null,
   "id": "69d52d1b",
   "metadata": {},
   "outputs": [],
   "source": [
    "#| default_exp frequency_response"
   ]
  },
  {
   "cell_type": "code",
   "execution_count": null,
   "id": "26135200",
   "metadata": {},
   "outputs": [],
   "source": [
    "#| include: false\n",
    "%load_ext autoreload\n",
    "%autoreload 2"
   ]
  },
  {
   "cell_type": "code",
   "execution_count": null,
   "id": "c095221d",
   "metadata": {},
   "outputs": [],
   "source": [
    "#| include: false\n",
    "from IPython.display import Image\n",
    "from IPython.display import HTML\n",
    "\n",
    "# For animations\n",
    "from matplotlib import animation, rc"
   ]
  },
  {
   "cell_type": "code",
   "execution_count": null,
   "id": "fa51993e",
   "metadata": {},
   "outputs": [],
   "source": [
    "# equivalent to rcParams['animation.html'] = 'html5'\n",
    "rc('animation', html='html5')"
   ]
  },
  {
   "cell_type": "code",
   "execution_count": null,
   "id": "0f27e052",
   "metadata": {},
   "outputs": [],
   "source": [
    "#| export\n",
    "import numpy as np\n",
    "import matplotlib\n",
    "import matplotlib.pyplot as plt\n",
    "import pandas as pd\n",
    "\n",
    "# import control"
   ]
  },
  {
   "cell_type": "code",
   "execution_count": null,
   "id": "bc9ed2b4",
   "metadata": {},
   "outputs": [],
   "source": [
    "#| include: false\n",
    "matplotlib.rc('xtick', labelsize=20) \n",
    "matplotlib.rc('ytick', labelsize=20) \n",
    "matplotlib.rcParams.update({'font.size': 22})"
   ]
  },
  {
   "cell_type": "markdown",
   "id": "96c268aa",
   "metadata": {},
   "source": [
    "-----------------------"
   ]
  },
  {
   "cell_type": "markdown",
   "id": "e85e6dad",
   "metadata": {},
   "source": [
    "## Frequency response"
   ]
  },
  {
   "cell_type": "markdown",
   "id": "7466cf3b",
   "metadata": {},
   "source": [
    "Given an LTI system with transfer function: $G(s) = C(sI - A)^{-1}B$\n",
    "\n",
    "and an input signal: $u(t)=Asin(\\omega t)$\n",
    "\n",
    "Assuming that the system is **asymptotically stable**, it is possible to verify that: \n",
    "\n",
    "$$y(t)=A|G(j\\omega)|sin(\\omega t + \\angle G(j\\omega) ) $$"
   ]
  },
  {
   "cell_type": "markdown",
   "id": "e038ba2d",
   "metadata": {},
   "source": [
    "This means that the output $y(t)$ converges to a sinusoidal signal that has the **same frequency** of the input, and that has magnitude $A|G(j\\omega)|$ and is shifted in phase by $\\angle G(j\\omega)$.\n",
    "\n",
    "Note also that this is true independently of the initial state $x_0$. In fact, since the system is asymptotically stable, the effect of the initial state on the output will go to zero.\n",
    "\n",
    "<tr>\n",
    "<td> <img src=\"img/26.freq-response.png\" alt=\"freq-response.png\" style=\"width: 550px;\"/> </td>\n",
    "</tr>"
   ]
  },
  {
   "cell_type": "markdown",
   "id": "e59a110a",
   "metadata": {},
   "source": [
    "Let's see what this means with our LinearCar:"
   ]
  },
  {
   "cell_type": "code",
   "execution_count": null,
   "id": "0f4b7182",
   "metadata": {},
   "outputs": [],
   "source": [
    "from feedback_control.intro_to_control_theory import *"
   ]
  },
  {
   "cell_type": "code",
   "execution_count": null,
   "id": "ae498141",
   "metadata": {},
   "outputs": [],
   "source": [
    "# Let's define its initial conditions\n",
    "x_0 = (0,0)\n",
    "\n",
    "# no slope terrain\n",
    "theta = np.radians(0)\n",
    "\n",
    "# Define the car parameters\n",
    "m = 1\n",
    "alpha = 1\n",
    "beta = 1\n",
    "gamma = 1\n",
    "params = (m, alpha, beta, gamma)\n",
    "\n",
    "# Create the car\n",
    "car = LinearCar(x_0, params)\n",
    "\n",
    "# run it!\n",
    "t0, tf, dt = 0, 30, 0.1\n",
    "time = np.arange(t0, tf, dt)\n",
    "\n",
    "w = 1 # rad/s\n",
    "u = 1*np.sin(w*time) # SINUSOIDAL INPUT\n",
    "\n",
    "position = []\n",
    "velocity = []\n",
    "time = []\n",
    "for i, t in enumerate(np.arange(t0, tf, dt)):\n",
    "    car.step(dt, u[i], theta)\n",
    "    x_i, y_i, v = car.sensor_i()\n",
    "    position.append((x_i,y_i)), velocity.append(v)\n",
    "    time.append(t)"
   ]
  },
  {
   "cell_type": "markdown",
   "id": "89d6d1a4",
   "metadata": {},
   "source": [
    "And now we plot it:"
   ]
  },
  {
   "cell_type": "code",
   "execution_count": null,
   "id": "c2d13e55",
   "metadata": {},
   "outputs": [],
   "source": [
    "# First set up the figure, the axis, and the plot element we want to animate\n",
    "fig, ax = plt.subplots();\n",
    "\n",
    "ax.set_xlim((min(position)[0], max(position)[0]));\n",
    "ax.set_ylim((-50, 10));\n",
    "line, = ax.plot([], [], lw=4);\n",
    "\n",
    "x_range = np.linspace(int(position[0][0]), int(position[-1][0]), num=20)\n",
    "\n",
    "# animation function. This is called sequentially\n",
    "def animate(i):    \n",
    "    x_min, x_max = position[max(0,i-2)][0], position[i][0]\n",
    "    y_min, y_max = position[max(0,i-2)][1], position[i][1]\n",
    "    line.set_data([x_min, x_max], [y_min, y_max])\n",
    "    return (line,)\n",
    "\n",
    "\n",
    "# call the animator. blit=True means only re-draw the parts that have changed.\n",
    "anim = animation.FuncAnimation(fig, animate,\n",
    "                               frames=len(time), interval=40, blit=True,\n",
    "                               repeat_delay=10000, repeat=True);\n",
    "\n",
    "plt.close()\n",
    "HTML(anim.to_html5_video())"
   ]
  },
  {
   "cell_type": "markdown",
   "id": "7e32b6bc",
   "metadata": {},
   "source": [
    "And if we plot the speed with respect to the input signal:"
   ]
  },
  {
   "cell_type": "code",
   "execution_count": null,
   "id": "be740aed",
   "metadata": {},
   "outputs": [],
   "source": [
    "fig = plt.figure(figsize=(10,5))\n",
    "\n",
    "plt.plot(u, linewidth=4)\n",
    "plt.plot(velocity, linewidth=4)\n",
    "fig.legend(['input: u', 'output: v'], loc='upper left')\n",
    "\n",
    "plt.title('Frequency response')\n",
    "plt.xlabel('time (s)')\n",
    "plt.grid()"
   ]
  },
  {
   "cell_type": "markdown",
   "id": "12ee14bb",
   "metadata": {},
   "source": [
    "### Comments"
   ]
  },
  {
   "cell_type": "markdown",
   "id": "054cca5e",
   "metadata": {},
   "source": [
    "Given an LTI system with transfer function: $G(s) = C(sI - A)^{-1}B$\n",
    "\n",
    "and an input signal: $u(t)=Asin(\\omega t)$\n",
    "\n",
    "Assuming that the system is **asymptotically stable**, it is possible to verify that: \n",
    "\n",
    "$$y(t)=A|G(j\\omega)|sin(\\omega t + \\angle G(j\\omega) ) $$\n",
    "\n",
    "- The complex function $G(j\\omega)$ is called frequency response (or harmonic response) of the system\n",
    "\n",
    "**If we know magnitude and phase of $G(j\\omega)$, as $\\omega$ varies, then effectively we know how the system behaves for all sinusoidal inputs with different driving frequencies.**\n",
    "- It is possible to experimentally determine $G(j\\omega)$ which means that we can also reconstruct the transfer function\n",
    "- $G(j\\omega)$ can be represented graphically through Magnitude and Phase diagrams (each one is a Real Function of the real variable $\\omega$:\n",
    "$$G(j\\omega)=|G(j\\omega)|e^{j\\angle G(j\\omega)}$$\n",
    "- This makes it possible to analyse the gain and the phase shift across the full frequency spectrum\n",
    "\n",
    "\n",
    "- Finally, as a side observation, note that if we have a sinusoidal input $sin(\\omega_0 t)$, the output can be zero only if $G(j\\omega_0)=0$. This happens if the T.F. $G(s)$ has a pair of imaginary zeros in $j\\omega_0$."
   ]
  },
  {
   "cell_type": "markdown",
   "id": "229e0f85",
   "metadata": {},
   "source": [
    "**Note:**\n",
    "- The time of the transient before the output of the system converges towards $y(t)=A|G(j\\omega)|sin(\\omega t + \\angle G(j\\omega) ) $ depends on dynamics of the system and can be evaluated using the settling time $t_s$."
   ]
  },
  {
   "cell_type": "markdown",
   "id": "37993b10",
   "metadata": {},
   "source": [
    "------------------------"
   ]
  },
  {
   "cell_type": "markdown",
   "id": "725da0e8",
   "metadata": {},
   "source": [
    "## Complex numbers and their representation through magnitude and phase"
   ]
  },
  {
   "cell_type": "markdown",
   "id": "058b4c8a",
   "metadata": {},
   "source": [
    "Complex Numbers are a very popular and frequently used aspect of Mathematics. Composed of a real part and an imaginary part, they are written in the form $\\mathit{\\mathbf{x + iy}}$. \n",
    "\n",
    "- $\\mathit{\\mathbf{x}}$ denotes the real part and $\\mathit{\\mathbf{iy}}$ denotes the imaginary part. \n",
    "- Complex numbers can be represented on an **Argand Diagram**. \n",
    "\n",
    "- An **Argand Diagram** is similar to the **Cartesian Coordinate System** except that the Real axis and Imaginary axis replace the $\\mathit{\\mathbf{X}}$ and $\\mathit{\\mathbf{Y}}$ axis respectively which you would usually expect see on the Cartesian system. \n",
    "For example:\n",
    "\n",
    "<tr>\n",
    "<td> <img src=\"img/27.complex-numbers.png\" alt=\"27.complex-numbers.png\" style=\"width: 350px;\"/> </td>\n",
    "</tr>"
   ]
  },
  {
   "cell_type": "markdown",
   "id": "e2dd01d9",
   "metadata": {},
   "source": [
    "The complex number $\\mathit{\\mathbf{z = x + iy}}$ can hence be also represented as: $$\\large \\mathit{\\mathbf{|z|e^{j\\angle z}}}$$\n",
    "\n",
    "- The Modulus of the Complex Number gives the straight line distance from the origin to the point: $\\mathit{\\mathbf{|z|=\\sqrt{x^2+y^2}}}$\n",
    "- The Argument gives the angle between the line representing the complex number and the positive real axis: $\\angle z = arctan \\frac{y}{x}$\n",
    "\n",
    "\n",
    "\n",
    "<tr>\n",
    "<td> <img src=\"img/28.complex_magnitude-argument.png\" alt=\"28.complex_magnitude-argument\" style=\"width: 450px;\"/> </td>\n",
    "</tr>"
   ]
  },
  {
   "cell_type": "markdown",
   "id": "fcedf63b",
   "metadata": {},
   "source": [
    "------------------------------"
   ]
  },
  {
   "cell_type": "markdown",
   "id": "c8338760",
   "metadata": {},
   "source": [
    "## Frequency Response and Bode Plots"
   ]
  },
  {
   "cell_type": "markdown",
   "id": "b9aa9a79",
   "metadata": {},
   "source": [
    "The objective is that of analysing the gain and the phase shift across the full frequency spectrum."
   ]
  },
  {
   "cell_type": "markdown",
   "id": "8de1037d",
   "metadata": {},
   "source": [
    "Let's now suppose that we have one simple system:\n",
    "\n",
    "<tr>\n",
    "<td> <img src=\"img/29.simple-system.png\" alt=\"29.simple-system\" style=\"width: 450px;\"/> </td>\n",
    "</tr>\n",
    "\n",
    "When we have $u(t)=\\sin(0.5t)$, the output of this system is:\n",
    "\n",
    "$$y(t)=2\\sin(0.5t)+\\int \\sin(0.5t)dt = 2\\sin(0.5t) - \\frac{1}{0.5}\\cos(0.5t)$$\n",
    "\n",
    "Since (Trigonometry Identity):\n",
    "> $a \\sin x + b \\cos x = \\sqrt{a^2+b^2}\\sin(x+\\phi)$, where $\\phi=\\tan^{-1}\\frac{b}{a}$\n",
    "\n",
    "We can then write:\n",
    "$$y(t)=2\\sin(0.5t)+\\int \\sin(0.5t)dt = 2\\sin(0.5t) - 2\\cos(0.5t) = \\sqrt{8} \\sin(0.5t + \\tan^{-1}(-1)) \\approx 2.83 \\sin(0.5t-0.785)$$\n",
    "\n"
   ]
  },
  {
   "cell_type": "markdown",
   "id": "d6b831fe",
   "metadata": {},
   "source": [
    "This gives the output for one frequency $\\omega$.\n",
    "\n",
    "More often though we are going to be interested in a range of frenquecies, and to represent the gain and phase shift across the frequency spectrum we can use **Bode Plots**\n",
    "- They plot frequency response information to be displayed graphically on two diagrams: gain and phase (plotted against frequency on a logarithmic horizontal axis)\n",
    "\n",
    "\n",
    "**Note**\n",
    "- To plot the gain on a Bode diagram we do not plot the gain directly\n",
    "- We first convert the gain into Power, and then we represent the gain in dB (a logarithmic unit)\n",
    "- To convert the amplitude to decibel: $20\\log_{10}\\frac{A}{A_0}$\n",
    "   - This comes from quantifying loss in audio levels through telephone circuits - units of measurement that could cover a large range of audio power differences. Since the ear responds to sound pressure logarithmically using a log scale corresponds to the way humans perceive sound.\n",
    "   - $1 \\text{TU} = 10\\log_{10} \\Delta \\text{Power Loss}$\n",
    "   - $1 \\text{TU}$ was the smallest power attenuation detectable by the average listener\n",
    "   - $1 \\text{TU}$ was later renamed after Alexander Bell as decibel (1/10 bel): $1 TU = \\frac{1}{10}\\text{bel} = 1 \\text{dB}$\n",
    "   - Since $\\text{Power} \\propto \\text{Amplitude}^2$ we can write the equation with respect to amplitude:\n",
    "      - $1 \\text{dB} = 10\\log_{10} \\text{Amplitude}^2 = 20\\log_{10} \\text{Amplitude}$ (*properties of logarithms*)\n",
    "   \n"
   ]
  },
  {
   "cell_type": "markdown",
   "id": "d1b2cdff",
   "metadata": {},
   "source": [
    "In our case:\n",
    "- $y(t) = 2.83 \\sin(0.5t-0.785)$\n",
    "- Gain: $20 \\log_{10}(2.83) \\approx 9 \\text{dB}$\n",
    "- Phase: $-0.785 \\text{rad} = -45 \\text{deg}$\n",
    "\n",
    "\n"
   ]
  },
  {
   "cell_type": "code",
   "execution_count": null,
   "id": "4a796ed1",
   "metadata": {},
   "outputs": [],
   "source": [
    "fig, axs = plt.subplots(1, 2, figsize=(10,5));\n",
    "\n",
    "axs[0].plot(0.5, 20*np.log10(2.83), marker='.', markersize=15)\n",
    "axs[0].set_xlabel('Frequency (rad/s)')\n",
    "axs[0].set_ylabel('Gain (dB)');\n",
    "axs[0].grid()\n",
    "\n",
    "axs[1].plot(0.5, np.degrees(-0.785), marker='.', markersize=15)\n",
    "axs[1].set_xlabel('Frequency (rad/s)')\n",
    "axs[1].set_ylabel('Phase (deg)');\n",
    "axs[1].grid()"
   ]
  },
  {
   "cell_type": "markdown",
   "id": "d9f551b4",
   "metadata": {},
   "source": [
    "- This is the frequency response for a single sine wave.\n",
    "- We are interested in plotting the gain and phase across the entire frequency spectrum"
   ]
  },
  {
   "cell_type": "markdown",
   "id": "0ecfeac5",
   "metadata": {},
   "source": [
    "We can manually calculate the frequency response for all possible values of $\\omega$:"
   ]
  },
  {
   "cell_type": "markdown",
   "id": "c0c2f9a6",
   "metadata": {},
   "source": [
    "$$\n",
    "y_t = \\sqrt{2^2+\\frac{1}{w}^2} sin(wt + \\tan^{-1} \\big(\\frac{-1/w}{2}\\big) )\n",
    "$$\n"
   ]
  },
  {
   "cell_type": "markdown",
   "id": "892cdefa",
   "metadata": {},
   "source": [
    "And we can plot for a finite number of values of $\\omega$"
   ]
  },
  {
   "cell_type": "code",
   "execution_count": null,
   "id": "7f865437",
   "metadata": {},
   "outputs": [],
   "source": [
    "fig, axs = plt.subplots(1, 2, figsize=(20,5));\n",
    "\n",
    "ws = np.logspace(-3, 3, 100) # logspace sets the exponents\n",
    "\n",
    "gain, phase = [], []\n",
    "for w in ws:\n",
    "    # y_t = np.sqrt(2**2+1/w**2) * sin(w*t + np.atan2(-1/w, 2))\n",
    "    gain.append(np.sqrt(2**2 + (1/w)**2))\n",
    "    phase.append(np.arctan2(-1/w, 2))\n",
    "    \n",
    "# Gain diagram\n",
    "axs[0].plot(ws, 20*np.log10(gain), linewidth=3)\n",
    "axs[0].plot(0.5, 20*np.log10(2.83), marker='.', markersize=15, color='red')    \n",
    "axs[0].set_xscale('log')\n",
    "axs[0].grid('log')\n",
    "axs[0].set_xlabel('Frequency (rad/s)')\n",
    "axs[0].set_ylabel('Gain (dB)');\n",
    "axs[0].text(10**3, 20*np.log10(2), '6dB')\n",
    "\n",
    "# Phase diagram\n",
    "axs[1].plot(ws, np.degrees(phase), linewidth=3)\n",
    "axs[1].plot(0.5, np.degrees(-0.785), marker='.', markersize=15, color='red')    \n",
    "axs[1].set_xscale('log')\n",
    "axs[1].grid('log')\n",
    "axs[1].set_xlabel('Frequency (rad/s)')\n",
    "axs[1].set_ylabel('Phase (deg)');"
   ]
  },
  {
   "cell_type": "markdown",
   "id": "14385122",
   "metadata": {},
   "source": [
    "- For this simple example, solving the response to the sine wave input is quite straightforward. But what about a more general case?\n",
    "- We can obtain the result using directly the transfer function."
   ]
  },
  {
   "cell_type": "markdown",
   "id": "405ac93f",
   "metadata": {},
   "source": [
    "The system we had was:\n",
    "<tr>\n",
    "<td> <img src=\"img/29.simple-system.png\" alt=\"29.simple-system\" style=\"width: 450px;\"/> </td>\n",
    "</tr>\n",
    "\n",
    "This can be written as:\n",
    "\n",
    "$$G(s)= \\bigg (2 + \\frac{1}{s} \\bigg ) = \\frac{2s+1}{s}$$\n",
    "\n",
    "which means:\n",
    "\n",
    "$$y(t) = \\frac{2s+1}{s} u(t) $$\n",
    "\n",
    "Recall that: $s=\\sigma + j\\omega$ (complex variable)\n",
    "\n",
    "- When we calculate the frequency response we are interested in the state state response, once all the transients have died out (or in other words, when $\\sigma=0$).\n",
    "\n",
    "- So for steady state: $s=j\\omega$\n",
    "\n",
    "When can then calculate **steady state gains and phases** directly substituting in the transfer functions $s=j\\omega$:\n",
    "\n",
    "$$\\frac{2s+1}{s} \\big |_{s=j\\omega} \\rightarrow \\frac{2j\\omega+1}{j\\omega} = 2-\\frac{1}{\\omega}j$$"
   ]
  },
  {
   "cell_type": "markdown",
   "id": "178f827f",
   "metadata": {},
   "source": [
    "We can then plot these real and imaginary components on the Real-Imaginary axis, and we can calculate gain and phase geometrically from these plots.\n",
    "\n",
    "And for $\\omega=0.5$ "
   ]
  },
  {
   "cell_type": "code",
   "execution_count": null,
   "id": "f5d0a226",
   "metadata": {},
   "outputs": [],
   "source": [
    "fig = plt.figure()\n",
    "\n",
    "w = 0.5\n",
    "\n",
    "def plot_imre(w, display_text=1):\n",
    "    plt.plot([-3, 6], [0, 0], color='black', linestyle='--') # real axis\n",
    "    plt.plot([0, 2], [0, -1/w], color='red') # vector\n",
    "    plt.plot(0, 0, marker='.', markersize=12, color='black');\n",
    "    plt.plot(2, -1/w, marker='.', markersize=12, color='red');\n",
    "    if display_text: plt.text(2+0.1, -1/w+0.1, '2-{:.1f}j'.format(1/w), size=16) # add a text\n",
    "\n",
    "\n",
    "plot_imre(w)\n",
    "plt.xlabel('Real')\n",
    "plt.ylabel('Imaginary')\n",
    "plt.axis([-3, 3, -3, 1])\n",
    "plt.grid()"
   ]
  },
  {
   "cell_type": "markdown",
   "id": "ebea5008",
   "metadata": {},
   "source": [
    "- The length of the line is the **Gain** of the system: $l=\\sqrt{real^2+imag^2}$\n",
    "- The angle between the line and the positive real line is the **Phase**: $\\angle=\\text{atan2(imag, real)}$"
   ]
  },
  {
   "cell_type": "markdown",
   "id": "536a580d",
   "metadata": {},
   "source": [
    "And if we speed across the frequencies, from $0$ to $\\inf$, we can obtain a visual understanding of what the gain and phase are doing for this system:\n",
    "- $w \\rightarrow 0$, $\\Rightarrow$, $imag \\rightarrow \\inf$\n",
    "- $w \\rightarrow \\inf$, $\\Rightarrow$, $imag \\rightarrow 0$"
   ]
  },
  {
   "cell_type": "markdown",
   "id": "4efa948d",
   "metadata": {},
   "source": [
    "And we can plot a few examples:"
   ]
  },
  {
   "cell_type": "code",
   "execution_count": null,
   "id": "34d2d500",
   "metadata": {},
   "outputs": [],
   "source": [
    "fig = plt.figure()\n",
    "ws = np.logspace(0.001, 10, 100)\n",
    "\n",
    "ws = [0.01, 0.1, 1]\n",
    "for w in ws:\n",
    "    plot_imre(w)\n",
    "    \n",
    "plt.xlabel('Real')\n",
    "plt.ylabel('Imaginary')\n",
    "plt.axis([-3, 6, -120, 10])\n",
    "plt.grid()\n",
    "\n",
    "# add a note on the plot to show the direction of w\n",
    "plt.arrow(5, -40, 0, 30, head_width=0.4, head_length=10, length_includes_head=True, color='k', linestyle=':')\n",
    "plt.arrow(5, -70, 0, -30, head_width=0.4, head_length=10, length_includes_head=True, color='k', linestyle=':')\n",
    "plt.text(4.5, -8, '$0$ for $\\omega=\\infty$', fontsize=14)\n",
    "plt.text(4.5, -110, '$\\infty$ for $\\omega=0$', fontsize=14);"
   ]
  },
  {
   "cell_type": "markdown",
   "id": "76d68bf5",
   "metadata": {},
   "source": [
    "The real part never changes."
   ]
  },
  {
   "cell_type": "markdown",
   "id": "26fda94d",
   "metadata": {},
   "source": [
    "**Gain**\n",
    "- As $\\omega$ decreases, the Gain increases ($\\inf$ for $\\omega=0$)\n",
    "- As $\\omega$ increases, the Gain decreases (2 for $\\omega=\\inf$)\n",
    "\n",
    "**Phase**\n",
    "\n",
    "- As $\\omega$ decreases, the Phase increases ($-90^o$ for $\\omega=0$)\n",
    "- As $\\omega$ increases, the Phase decreases (0 for $\\omega=\\inf$)\n",
    "\n",
    "\n"
   ]
  },
  {
   "cell_type": "markdown",
   "id": "e618c610",
   "metadata": {},
   "source": [
    "------------------"
   ]
  },
  {
   "cell_type": "markdown",
   "id": "b87a07d6",
   "metadata": {},
   "source": [
    "### Let's be more formal\n",
    "\n",
    "- The transfer function of linear systems are polynomial fractions in $s$\n",
    "- It is always possible to factor polynomials in terms of their roots (zeros and poles)\n",
    "- Each polynomial is the product of first-order or second-order (potentially with multiplicity $>$ 1)\n",
    "- To build the frequency response of the system is useful to have simple rules to represent each term\n",
    "- We can leverage the properties of the logarithms: the logarithm of a product is equal to a sum of logarithms:\n",
    "     - $ \\log(AB) = \\log(A)+\\log(B) $\n",
    "     - $ \\log(A/B) = \\log(A)-\\log(B)$\n",
    "     - $ \\log(y^x) = x\\log(y)$"
   ]
  },
  {
   "cell_type": "markdown",
   "id": "30d0d928",
   "metadata": {},
   "source": [
    "### Magnitude and Phase\n",
    "\n",
    "$$\\large G(s) = \\frac{(s-z_1)(s-z_2)...}{(s-p_1)(s-p_2)...}$$ \n",
    "\n",
    "$$\\Downarrow$$\n",
    "\n",
    "$$\\large G(jw) = \\frac{|j\\omega-z_1|e^{j\\angle j\\omega -z_1} |j\\omega-z_2|e^{j\\angle j\\omega -z_2} ...}{|j\\omega-p_1|e^{j\\angle j\\omega -p_1} |j\\omega-p_2|e^{j\\angle j\\omega -p_2} ...} $$ \n",
    "\n",
    "$$\\Downarrow$$ \n",
    "\n",
    "$$\\large G(jw) = \\frac{|j\\omega-z_1||j\\omega-z_2|...e^{j(\\angle j\\omega -z_1 + \\angle j\\omega -z_2 + ...)}}{|j\\omega-p_1||j\\omega-p_2|...e^{j(\\angle j\\omega -p_1 + \\angle j\\omega -p_2 + ...)}} $$\n",
    "\n",
    "and:\n",
    "\n",
    "$$\\large |G(jw)| = \\frac{|j\\omega-z_1||j\\omega-z_2|...}{|j\\omega-p_1||j\\omega-p_2|...}$$\n",
    "\n",
    "$$\\large \\angle  G(jw)| = +\\angle (j\\omega -z_1)+\\angle (j\\omega -z_2)+ ... -\\angle (j\\omega -p_1)-\\angle (j\\omega -p_2) - ...$$\n",
    "\n"
   ]
  },
  {
   "cell_type": "markdown",
   "id": "5760a66e",
   "metadata": {},
   "source": [
    "---------------------"
   ]
  },
  {
   "cell_type": "markdown",
   "id": "ece5b6f9",
   "metadata": {},
   "source": [
    "### Bode Amplitude Plot"
   ]
  },
  {
   "cell_type": "markdown",
   "id": "6d8e655e",
   "metadata": {},
   "source": [
    "- In the amplitude plot, it is convenient to report the value of the magnitude in _decibel_ or _dB_.\n",
    "- By convention, the dB value of a positive quantity $x$ is: $20\\log_{10}(x)$.\n",
    "- This means: $|G(j\\omega)|_{dB}=20log|G(j\\omega)|$\n",
    "\n",
    "- Note that when:\n",
    "   - $|G(j\\omega)|_{dB} > 0 \\rightarrow |G(j\\omega)| > 1$\n",
    "   - $|G(j\\omega)|_{dB} < 0 \\rightarrow |G(j\\omega)| < 1$\n",
    "   - $|G(j\\omega)|_{dB} = 0 \\rightarrow |G(j\\omega)| = 1$\n",
    "   \n",
    "   \n",
    "When we use dB things become simpler:\n",
    "\n",
    "$\\large |G(jw)| = \\frac{|j\\omega-z_1||j\\omega-z_2|...}{|j\\omega-p_1||j\\omega-p_2|...}$ $\\Rightarrow$\n",
    "\n",
    "$$\\large |G(j\\omega)|_{dB}=20\\log|G(j\\omega)| = 20\\log(|j\\omega-z_1|) + 20\\log(|j\\omega-z_2|) + ... \\\\\n",
    "               \\large - 20\\log(|j\\omega-p_1|) - 20\\log(|j\\omega-p_2|) ...$$\n",
    "\n"
   ]
  },
  {
   "cell_type": "markdown",
   "id": "3c49d011",
   "metadata": {},
   "source": [
    "- It is convenient to use a logarithmic scale for the $w$-axis. \n",
    "- Logarithmic scales are useful when plotting functions that vary over many orders of magnitude.\n",
    "- One term we will use in our discussion of frequency response plots is “decade”. A decade change in frequency is a factor of ten. So, for example, 1 kHz is a decade above 100 Hz and a decade below 10 kHz."
   ]
  },
  {
   "cell_type": "markdown",
   "id": "be4a8553",
   "metadata": {},
   "source": [
    "### Sketching Bode Plots "
   ]
  },
  {
   "cell_type": "markdown",
   "id": "6f0d49dd",
   "metadata": {},
   "source": [
    "- Being able to quickly draw Bode plots is important\n",
    "   - They provide an intuitive understanding how poles and zeros affect the frequency response\n",
    "   - Make it possible to estimate the transfer function looking at the frequency response (e.g. estimate of the transfer function from the output of a frequency sweep that we are providing to the system)\n",
    "   "
   ]
  },
  {
   "cell_type": "markdown",
   "id": "6b646df0",
   "metadata": {},
   "source": [
    "**Recall**\n",
    "\n",
    "- Given a transfer function $G(s)$ we can obtain the (steady state) frequency response setting $s=j\\omega \\rightarrow G(j\\omega)$\n",
    "\n",
    "- Remember also that $G(j\\omega) = \\text{real} + \\text{imag}j $\n",
    "\n",
    "- If we plot it on the Real-Imag diagram:\n",
    "\n",
    "<tr>\n",
    "<td> <img src=\"img/37.H_jw_text.png\" alt=\"37.H_jw\" style=\"width: 350px;\"/> </td>\n",
    "</tr>\n",
    "\n",
    "- Gain: $\\sqrt{\\text{real}^2 + \\text{img}^2} = |G(j\\omega)|$\n",
    "- Phase: $atan2(\\text{img}, \\text{real}) = arg(G(j\\omega)) = \\angle G(j\\omega)$"
   ]
  },
  {
   "cell_type": "markdown",
   "id": "44dd520c",
   "metadata": {},
   "source": [
    "- The sign of the phase is determined based on which side of the real line it appears\n",
    "\n",
    "<tr>\n",
    "<td> <img src=\"img/38.H_jw_multiple_points-1.png\" alt=\"38.H_jw\" style=\"width: 350px;\"/> </td>\n",
    "</tr>"
   ]
  },
  {
   "cell_type": "markdown",
   "id": "f437a59a",
   "metadata": {},
   "source": [
    "## Representing the simplest transfer function on a Bode Plot"
   ]
  },
  {
   "cell_type": "markdown",
   "id": "57516efb",
   "metadata": {},
   "source": [
    "- $G(s) = K$\n",
    "- where $K \\in R$ can be positive of negative"
   ]
  },
  {
   "cell_type": "markdown",
   "id": "af37fab9",
   "metadata": {},
   "source": [
    "We apply the definition\n",
    "- Gain = $|G(j\\omega)| = |K| = \\text{positive K}$\n",
    "- Phase = $\\text{atan2}(img, real)= \\text{atan2}(0, K)$  \n",
    "   - The img part is zero in our case\n",
    "\n",
    "If we plot this on the real-img axis, all values would lie on the real axis (imaginary component is zero)\n",
    "\n",
    "<tr>\n",
    "<td> <img src=\"img/39.H_jw_K-1.png\" alt=\"39.H_jw_K.png\" style=\"width: 450px;\"/> </td>\n",
    "</tr>\n",
    "\n",
    "- The gain is always $K$ (distance from the origin)\n",
    "- $K$ can be positive or negative, \n",
    "   - For $K > 0$, Phase = $0$,\n",
    "   - For $K < 0$, Phase = $180^o=-180^o$, but traditionally use $-180^o$\n",
    "      - if we use $\\text{atan2}$ we already keep track of the sign."
   ]
  },
  {
   "cell_type": "markdown",
   "id": "db88e9e9",
   "metadata": {},
   "source": [
    "### Represent on a Bode Plot"
   ]
  },
  {
   "cell_type": "markdown",
   "id": "55ee21c6",
   "metadata": {},
   "source": [
    "**Gain**\n",
    "- We need to remember to convert the gain to dB: $|H(j\\omega)| = 20\\log_{10}|K|$\n",
    "- Then it is just a constant for all frequencies, so it is a straight line\n",
    "\n",
    "**Phase**\n",
    "- Constant for all frequencies\n",
    "- $K>0$, Phase = $0^o$\n",
    "- $K<0$, Phase = $-180^o$\n",
    "\n",
    "\n",
    "<tr>   \n",
    "    <td> <img src=\"img/40.Bode_H_jw_K-1.png\" alt=\"40.Bode_H_jw_K\" style=\"width: 750px;\"/> </td>\n",
    "</tr>"
   ]
  },
  {
   "cell_type": "markdown",
   "id": "8602f948",
   "metadata": {},
   "source": [
    "**What is happening in time?**\n",
    "\n",
    "The system that we are considering is:\n",
    "\n",
    "<tr>\n",
    "    <td> <img src=\"img/41.sinwt.png\" alt=\"41.sinwt\" style=\"width: 550px;\"/> </td>\n",
    "</tr>\n"
   ]
  },
  {
   "cell_type": "markdown",
   "id": "02802bbe",
   "metadata": {},
   "source": [
    "- Input is $\\sin(\\omega t)$\n",
    "- Output is $K\\sin(\\omega t)$, which is a sinusoid with the same frequency, but scaled by $K$ (and shifted in phase if $K<0$ by -180 deg).\n",
    "\n",
    "<tr>\n",
    "    <td> <img src=\"img/42.sinwt_shift.png\" alt=\"42.sinwt_shift\" style=\"width: 450px;\"/> </td>\n",
    "</tr>\n"
   ]
  },
  {
   "cell_type": "markdown",
   "id": "bf166f2c",
   "metadata": {},
   "source": [
    "------------------------"
   ]
  },
  {
   "cell_type": "markdown",
   "id": "da3e552e",
   "metadata": {},
   "source": [
    "## Bode Plot of the Integrator"
   ]
  },
  {
   "cell_type": "markdown",
   "id": "019f918b",
   "metadata": {},
   "source": [
    "- Consider a system that has a single pole at the origin. \n",
    "- The steady-state frequency-response is determined by letting $s \\rightarrow j\\omega$:\n",
    "\n",
    "$$G(s) = \\frac{1}{s} \\Rightarrow G(j\\omega)=\\frac{1}{j\\omega} = -\\frac{1}{w}j$$\n",
    "\n",
    "-----\n",
    "**Side note**\n",
    "$$\n",
    "j=\\sqrt{-1}$$\n",
    "Therefore:\n",
    "$$\n",
    "\\frac{1}{j} = \\frac{1}{\\sqrt{-1}}\\frac{\\sqrt{-1}}{\\sqrt{-1}} = \\frac{\\sqrt{-1}}{-1} = -\\sqrt{-1}=-j\n",
    "$$\n",
    "\n",
    "-----\n",
    "\n",
    "Given\n",
    "$G(j\\omega)= -\\frac{1}{w}j$\n",
    "\n",
    "- Real component is 0\n",
    "- Imaginary component is $-\\frac{1}{w}$\n",
    "\n",
    "- Gain = $|G(j\\omega)| = \\big | -\\frac{1}{w}j \\big | = \\frac{1}{\\omega}$: \n",
    "- Phase = $\\arg G(j\\omega) = \\arg \\big(-\\frac{1}{w}, 0 \\big) = -90^o$ \n",
    "\n",
    "We can see this graphically on the real-img axis:\n",
    "\n",
    "<tr>\n",
    "    <td> <img src=\"img/43.H_jw_integrator_bode-1.png\" alt=\"43.H_jw_integrator_bode\" style=\"width: 350px;\"/> </td>\n",
    "</tr>\n",
    "\n",
    "\n",
    "Another way to look at this is through a block diagram\n",
    "<tr>\n",
    "    <td> <img src=\"img/44.H_jw_integrator_time_one_s.png\" alt=\"44.H_jw_integrator_time\" style=\"width: 550px;\"/> </td>\n",
    "</tr>\n",
    "\n"
   ]
  },
  {
   "cell_type": "markdown",
   "id": "11d6b96b",
   "metadata": {},
   "source": [
    "- And if we plot it, we see that the resulting signal has a -90 deg phase shift:"
   ]
  },
  {
   "cell_type": "code",
   "execution_count": null,
   "id": "dd8117ec",
   "metadata": {},
   "outputs": [],
   "source": [
    "fig = plt.figure(figsize=(10,5))\n",
    "\n",
    "t = np.linspace(0, 30, 50)\n",
    "w = 0.5\n",
    "\n",
    "plt.plot(t, np.sin(w*t), color = 'green', label='sin(wt)', linewidth=4)\n",
    "plt.plot(t, -1/w*np.cos(w*t), color = 'blue', label='-1/w cos(wt)', linewidth=4)\n",
    "\n",
    "rc('font', **{'size':22})\n",
    "plt.grid()\n",
    "plt.legend(loc=\"lower right\", bbox_to_anchor=(1.4,0.7));"
   ]
  },
  {
   "cell_type": "markdown",
   "id": "8d4c093a",
   "metadata": {},
   "source": [
    "Let's se what the Bode plot looks like:\n",
    "\n",
    "- Gain = $\\large |G(j\\omega)| = \\big | -\\frac{1}{w}j \\big | = \\frac{1}{\\omega}$: \n",
    "\n",
    "   - when $\\omega = 1 \\; \\text{rad/s}$, then gain = 1, $\\rightarrow 20\\log_{10}1=0 \\text{dB}$\n",
    "   - when $\\omega = 10 \\; \\text{rad/s}$, then gain = 1/10, $\\rightarrow 20\\log_{10}1=-20 \\text{dB}$\n",
    "   - $|G(j\\omega)|_{dB}=20\\log\\big|\\frac{1}{j\\omega}\\big| = -20\\log(\\omega)$\n",
    "   - Given that we are using a logarithmic scale on both axis, this corresponds to a straight line with a -20dB slope every \"decade\".\n",
    "\n",
    "\n",
    "\n",
    "- Phase = $\\arg \\big(-\\frac{1}{w}, 0 \\big) = -90^o$ at all frequencies\n",
    "\n"
   ]
  },
  {
   "cell_type": "markdown",
   "id": "644ae4c5",
   "metadata": {},
   "source": [
    "We can plot it\n",
    "\n",
    "<tr>\n",
    "    <td> <img src=\"img/integrator-bode.png\" alt=\"integrator-bode\" style=\"width: 550px;\"/> </td>\n",
    "</tr>\n",
    "\n",
    "\n",
    "\n",
    "\n",
    "We can also use the [Python Control Systems](https://web.math.princeton.edu/~cwrowley/python-control/index.html) Library for this.\n",
    "\n",
    "> The Python Control Systems Library is a Python module that implements basic operations for analysis and design of feedback control systems."
   ]
  },
  {
   "cell_type": "code",
   "execution_count": null,
   "id": "be66d00c",
   "metadata": {},
   "outputs": [],
   "source": [
    "import control"
   ]
  },
  {
   "cell_type": "code",
   "execution_count": null,
   "id": "53785536",
   "metadata": {},
   "outputs": [],
   "source": [
    "fig = plt.figure(figsize=(15,10))\n",
    "\n",
    "# integrator: 1/s = 1/(s+0)\n",
    "num = [1]\n",
    "den = [1, 0]\n",
    "\n",
    "control.bode_plot(control.tf(num, den), dB=True, omega_limits=(0.1, 100));"
   ]
  },
  {
   "cell_type": "markdown",
   "id": "c5bc36b7",
   "metadata": {},
   "source": [
    "### What about a zero?\n",
    "\n",
    "- $G(s)=s$\n",
    "\n",
    "- It is easy to calculate this from what we know already.\n",
    "- For example we can use the property of logarithms to say: $G(s)=s = \\frac{1}{1/s} \\Rightarrow 1 - \\frac{1}{s}$\n",
    "\n",
    "- So the gain of a zero is simply the negative of the gain of a pole (reflection about the real axis)\n",
    "- And the phase of a zero is +90 deg\n",
    "\n",
    "<tr>\n",
    "    <td> <img src=\"img/zero-bode.png\" alt=\"zero-bode\" style=\"width: 550px;\"/> </td>\n",
    "</tr>\n"
   ]
  },
  {
   "cell_type": "markdown",
   "id": "738e9a44",
   "metadata": {},
   "source": [
    "--------------------"
   ]
  },
  {
   "cell_type": "markdown",
   "id": "0be0e222",
   "metadata": {},
   "source": [
    "## Frequency Response of Simple Poles and Zeros"
   ]
  },
  {
   "cell_type": "markdown",
   "id": "e1887dff",
   "metadata": {},
   "source": [
    "### Transfer function with a single real pole \n",
    "\n",
    "- Given a transfer function G(S), re-write the transfer function in the Bode form: \n",
    "$$\n",
    "\\frac{1}{1+\\frac{s}{w_0}}\n",
    "$$ \n",
    "   - ex. \n",
    "       - $\\large G(s)=\\frac{1}{s+1} \\Rightarrow \\frac{1}{1+\\frac{s}{w_0}}$\n",
    "       - we call $w_0$ \"break frequency\" or \"corner frequency\"\n",
    "   - Sometime you also see it written as:\n",
    "       - $\\large G(s)=\\frac{w_0}{s+w_0} = \\frac{1}{1+\\tau s}$\n",
    "       - where $\\tau = \\frac{1}{w_0}$ is called _Time constant_\n",
    "   - All these representations are equivalent\n",
    "   "
   ]
  },
  {
   "cell_type": "markdown",
   "id": "99fcd9d4",
   "metadata": {},
   "source": [
    "- To be clear:\n",
    "  - A real pole has an effect on the frequency response\n",
    " "
   ]
  },
  {
   "cell_type": "markdown",
   "id": "5b8dce2e",
   "metadata": {},
   "source": [
    "<table style='margin: 0 auto' rules=none>\n",
    "<tr>\n",
    "    <td> <img src=\"img/44.1.real-pole-1.png\" alt=\"45.H_jw_real_pole_bode_0\" style=\"width: 350px;\"/> \n",
    "    <td> <img src=\"img/44.2.real-pole-2.png\" alt=\"45.H_jw_real_pole_bode_0\" style=\"width: 350px;\"/> </td>\n",
    "</tr> \n",
    "</table>    "
   ]
  },
  {
   "cell_type": "markdown",
   "id": "cf97380d",
   "metadata": {},
   "source": [
    "Now, given a transfer function with a single real pole:\n",
    "\n",
    "$$\n",
    "\\large G(s)= \\frac{1}{1+\\frac{s}{w_0}} \\hspace{0.2cm}  \\large \\xrightarrow{Set\\; s=j\\omega} \\hspace{0.2cm} \\large\\frac{1}{1+\\frac{j\\omega}{w_0}}\n",
    "$$"
   ]
  },
  {
   "cell_type": "markdown",
   "id": "0cfd9173",
   "metadata": {},
   "source": [
    "We are trying to separate the real part and the imaginary part:\n",
    "\n",
    "$$\\large\\frac{1}{1+\\frac{j\\omega}{w_0}} = \\frac{1}{1+j\\frac{\\omega}{w_0}} \\frac{1-j\\frac{\\omega}{w_0}}{1-j\\frac{\\omega}{w_0}} = \\frac{1-j\\frac{\\omega}{w_0}}{1+\\frac{\\omega^2}{w_0^2}}$$\n",
    "\n",
    "_Note: $1-j\\frac{\\omega}{w_0}$ is the complex conjugate of $1+j\\frac{\\omega}{w_0}$_"
   ]
  },
  {
   "cell_type": "markdown",
   "id": "64daca48",
   "metadata": {},
   "source": [
    "- Real part = $\\large \\frac{1}{1+\\frac{\\omega^2}{\\omega_0^2}}$\n",
    "\n",
    "- Imaginary part = $\\large \\frac{-\\frac{\\omega}{\\omega_0}}{1+\\frac{\\omega^2}{\\omega_0^2}}$"
   ]
  },
  {
   "cell_type": "markdown",
   "id": "2f3e2df5",
   "metadata": {},
   "source": [
    "And now we can solve for the gain and phase as we did before:\n",
    "\n",
    "- Gain: $$ 20\\log_{10}\\big | H(j\\omega) \\big | = \\sqrt{ real^2 + img^2 } = \\sqrt{ \\frac{1}{1+\\frac{\\omega^2}{\\omega_0^2}} } \\xrightarrow{in \\; \\text{dB}} -20\\log_{10}\\bigg( \\sqrt{1+\\frac{\\omega^2}{\\omega_0^2}} \\bigg)$$\n",
    "\n",
    "\n",
    "- Phase: $$\\arctan\\frac{\\text{img}}{\\text{real}}=\\arctan\\frac{-w}{w_0}$$\n"
   ]
  },
  {
   "cell_type": "markdown",
   "id": "a17a64e9",
   "metadata": {},
   "source": [
    "And now we can plot them:\n",
    "\n",
    "- case 1: $w \\ll w_0 \\rightarrow \\frac{\\omega^2}{\\omega_0^2} \\rightarrow 0$, \n",
    "    - Gain: $-20\\log_{10} 1 = 0\\; \\text{dB}$\n",
    "    - Phase: $\\arctan(0) = 0\\; \\text{degrees}$\n",
    "    \n",
    "    \n",
    "<tr>\n",
    "    <td> <img src=\"img/45.H_jw_real_pole_bode_0.png\" alt=\"45.H_jw_real_pole_bode_0\" style=\"width: 550px;\"/> </td>\n",
    "</tr>    \n",
    "    "
   ]
  },
  {
   "cell_type": "markdown",
   "id": "e3232d5d",
   "metadata": {},
   "source": [
    "- case 2: $w = w_0 \\rightarrow \\frac{\\omega^2}{\\omega_0^2} = 1$, \n",
    "    - Gain: $-20\\log_{10}\\sqrt{2} = -3 \\; \\text{dB}$\n",
    "    - Phase: $\\arctan(-1) = -45\\; \\text{degrees}$\n",
    "    \n",
    "    \n",
    "<tr>\n",
    "    <td> <img src=\"img/46.H_jw_real_pole_bode_1_1.png\" alt=\"46.H_jw_real_pole_bode_1.png\" style=\"width: 550px;\"/> </td>\n",
    "</tr>    \n",
    "    "
   ]
  },
  {
   "cell_type": "markdown",
   "id": "f7a26ecd",
   "metadata": {},
   "source": [
    "- case 3: $w \\gg w_0$, \n",
    "    - The term $\\frac{\\omega^2}{\\omega_o^2}$ dominates the gain equation\n",
    "    - Gain: $-20\\log_{10}\\frac{\\omega}{\\omega_o}$\n",
    "       - Every time $\\omega$ gets 10 times bigger, there is a drop in gain of -20 dB\n",
    "       - $-20 \\; \\text{dB}/\\text{decade}$ slope and intercepts 0 at $\\omega_0$\n",
    "    - Phase: $\\arctan(-\\frac{\\omega}{\\omega_o})=\\arctan(-\\inf) = -90\\; \\text{degrees}$\n",
    "    \n",
    "    \n",
    "<tr>\n",
    "    <td> <img src=\"img/47.H_jw_real_pole_bode_2.png\" alt=\"47.H_jw_real_pole_bode_2.png\" style=\"width: 550px;\"/> </td>\n",
    "</tr>    \n",
    "    \n",
    "- This is called the asymptotic Bode plot, which is an approximation of the actual plot."
   ]
  },
  {
   "cell_type": "markdown",
   "id": "9d7f9d9e",
   "metadata": {},
   "source": [
    "**What does the actual Bode plot look like?**\n",
    "\n",
    "<tr>\n",
    "    <td> <img src=\"img/48.H_jw_real_pole_bode_actual.png\" alt=\"48.H_jw_real_pole_bode_actual.png\" style=\"width: 550px;\"/> </td>\n",
    "</tr>    "
   ]
  },
  {
   "cell_type": "markdown",
   "id": "010b65c4",
   "metadata": {},
   "source": [
    "And for this reason, sometimes we use a different approximation of the phase:\n",
    "\n",
    "<tr>\n",
    "    <td> <img src=\"img/49.H_jw_real_pole_bode_2_v2.png\" alt=\"48.H_jw_real_pole_bode_actual.png\" style=\"width: 550px;\"/> </td>\n",
    "</tr>    "
   ]
  },
  {
   "cell_type": "markdown",
   "id": "484cb802",
   "metadata": {},
   "source": [
    "### Transfer function with a single real zero\n",
    "\n",
    "- $G(s) = s + z$\n",
    "\n",
    "- It is easy from what we know already\n",
    "\n",
    "- One way to do it is to reshape it as: \n",
    "   $$G(s) = s + z = \\frac{1}{\\frac{1}{s+z}} = \\frac{1}{\\frac{1}{1+\\frac{s}{w_0}}} = 1 + \\frac{s}{w_0}$$\n",
    "\n",
    "- And now we can simply use the property of the logarithm: \n",
    "  - _real zero_ is _- real pole_ when plotted on a log-log Bode plot.\n",
    " \n",
    "- Gain slops up at 20 dB/decade (at $w_0$)\n",
    "- Phase goes from 0 to 90 degrees."
   ]
  },
  {
   "cell_type": "markdown",
   "id": "5736c30a",
   "metadata": {},
   "source": [
    "### Summary\n",
    "\n",
    "- Write the transfer function as: $\\frac{1}{1+\\frac{s}{w_0}}$ (pole) or as $1 + \\frac{s}{w_0}$ (zero)\n",
    "- Find the break frequency $w_0$ on the log-log Bode plot\n",
    "- Gain: find and draw the two asymptotes (0 dB until $w_0$, then -20dB/decade (pole) or 20dB/decade (zero))\n",
    "- Phase: draw the two asymptotes (0 until $w_0$, then -90 deg (pole), 90 deg (zero)\n",
    "     - Optional: use the better approximation"
   ]
  },
  {
   "cell_type": "markdown",
   "id": "8c67b549",
   "metadata": {},
   "source": [
    "**One more comment:**\n",
    "\n",
    "- If you have a $G(s)=\\frac{1}{s+4}$ you can always refactor it to the form we would like:\n",
    "$$G(s)=\\frac{1}{s+4} = \\frac{1}{4}\\frac{1}{1+\\frac{s}{4}}$$\n",
    "- $\\frac{1}{4}$ is the gain, and the break frequency $w_0=4$ rad/s"
   ]
  },
  {
   "cell_type": "markdown",
   "id": "ad4b23c1",
   "metadata": {},
   "source": [
    "------------------------------"
   ]
  },
  {
   "cell_type": "markdown",
   "id": "5e1d228c",
   "metadata": {},
   "source": [
    "### Transfer function with a pair of complex poles / zeros "
   ]
  },
  {
   "cell_type": "markdown",
   "id": "caafc29c",
   "metadata": {},
   "source": [
    "Let's now consider a transfer function of the form:\n",
    "\n",
    "$$H(s) = \\frac{\\omega_o^2}{s^2+2\\xi\\omega_o s+\\omega_o^2}$$\n",
    "\n",
    "The roots of the denominator (the poles) are:\n",
    "\n",
    "$$s=-\\xi\\omega_o \\pm \\omega_o\\sqrt{\\xi^2-1}$$\n",
    "\n",
    "- $w_o$ is the break frequency\n",
    "- $\\xi$ dumping ratio \n",
    "- if $\\xi > 1$, the second-order response has two simple real poles and we know how to deal with that already.\n",
    "- if $0<\\xi < 1$, we have stable complex-conjugatee pole pairs.\n",
    "\n",
    "First, like we did before, we want to manipulate the form to bring it to the Bode form:\n",
    "\n",
    "$$H(s) = \\frac{1}{\\frac{s^2}{\\omega_o^2}+2\\xi\\frac{\\omega_o}{\\omega_o^2} s+ \\frac{\\omega_o^2}{\\omega_o^2}} = \\frac{1}{\\frac{s^2}{\\omega_o^2}+2\\frac{\\xi}{\\omega_o} s+ 1} $$\n",
    "\n",
    "Second, we substitute $s=j\\omega$ and solve for the real and img parts:\n",
    "\n",
    "$$H(j\\omega) = \\frac{1}{-\\frac{\\omega^2}{\\omega_o^2}+2j\\xi\\frac{\\omega}{\\omega_o} + 1}$$ \n",
    "\n",
    "\n",
    "\n",
    "- Real = $\\frac{ 1 - \\big(\\frac{w}{w_0}\\big)^2}{ \\bigg[1 - \\big(\\frac{w}{w_0}\\big)^2 \\bigg]^2 + \\bigg[2\\xi \\frac{w}{w_0} \\bigg]^2}$\n",
    "\n",
    "\n",
    "- Imaginary = $\\frac{- 2\\xi \\frac{w}{w_0}}{ \\bigg[1 - \\big(\\frac{w}{w_0}\\big)^2 \\bigg]^2 + \\bigg[2\\xi \\frac{w}{w_0} \\bigg]^2}j$\n",
    "\n",
    "\n",
    "We can use these to estimate the Gain and Phase."
   ]
  },
  {
   "cell_type": "markdown",
   "id": "cc1b448f",
   "metadata": {},
   "source": [
    "- Case 1: $w \\ll w_0$,\n",
    "   - $\\frac{w}{w_0}$ is very small $\\Rightarrow$ Real = 1, Img = 0\n",
    "   - $|H(j\\omega)|_{dB} = 20\\log(1) = 0$ dB\n",
    "   - $\\arg H(j\\omega) = \\arctan\\frac{0}{1} = 0$ deg\n",
    "   \n",
    "   \n",
    "   \n",
    "<tr>\n",
    "    <td> <img src=\"img/50.H_jw_complex_pole_bode_1.png\" alt=\"50.H_jw_complex_pole_bode\" style=\"width: 550px;\"/> </td>\n",
    "</tr>       \n"
   ]
  },
  {
   "cell_type": "markdown",
   "id": "f4ede7f2",
   "metadata": {},
   "source": [
    "- Case 2: $w \\gg w_0$,\n",
    "   - $1 - \\big( \\frac{w}{w_0} \\big)^2 \\approx - \\big( \\frac{w}{w_0} \\big)^2$ $\\Rightarrow$ Real = $-\\big( \\frac{w}{w_0} \\big)^{-2}$, Img = $-2\\xi \\big( \\frac{w}{w_0} \\big)^{-3}$\n",
    "   - $|H(j\\omega)|_{dB} = 20\\log\\big( \\frac{w}{w_0} \\big)^{-2} = -40\\log(\\frac{w}{w_0})$ dB\n",
    "       - Note that the real component dominates (there is a square) over the imaginary component\n",
    "       - -40 dB/decade drop in gain\n",
    "   - $\\arg H(j\\omega) = \\arctan2 \\big(  -2\\xi \\big( \\frac{w}{w_0} \\big)^{-3}, -\\big( \\frac{w}{w_0} \\big)^{-2}   \\big) = -180$ deg\n",
    "       - This is because both real and imaginary components are negative and the imaginary component goes to zero faster than the real component.\n",
    "   \n",
    "   \n",
    "   \n",
    "<tr>\n",
    "    <td> <img src=\"img/51.H_jw_complex_pole_bode_w_gg_w0_1.png\" alt=\"51.H_jw_complex_pole_bode_w_gg_w0.png\" style=\"width: 550px;\"/> </td>\n",
    "</tr>       \n",
    "\n"
   ]
  },
  {
   "cell_type": "markdown",
   "id": "a9d20d5c",
   "metadata": {},
   "source": [
    "-Case 3: $w = w_0$,\n",
    "   - $\\frac{w}{w_0} = 1$, Real = 0, Img = $-\\frac{1}{2\\xi}$\n",
    "   - $|H(j\\omega)|_{dB} = 20\\log_{10}(\\frac{1}{2\\xi})$ dB = $-20\\log_{10}(2\\xi)$ dB\n",
    "       - Strongly depends on the parameter $\\xi$, the _damping ratio.\n",
    "       - When $\\xi=0.5 \\rightarrow -20\\log_{10}(1)=0$dB (no peak)\n",
    "       - When $\\xi > 0.5$ then the peak goes slightly down at $w_0$\n",
    "       - When $\\xi < 0.5$ peak of magnitude $-20\\log_{10}(2\\xi)$\n",
    "       - When $\\xi = 0$ (no dumping) peak goes to $\\inf$\n",
    "       - -40 dB/decade drop in gain\n",
    "   - $\\arg H(j\\omega) = \\arctan(\\inf) = -90$ deg  (remember the quadrant)\n",
    "       - The slope of the line however changes as a function of $\\xi$\n",
    "   \n",
    "In case $\\xi = 0.3$:\n",
    "\n",
    "<tr>\n",
    "    <td> <img src=\"img/52.H_jw_complex_pole_bode_w_eq_w0_1.png\" alt=\"52.H_jw_complex_pole_bode_w_eq_w0.png\" style=\"width: 550px;\"/> </td>\n",
    "</tr>       \n",
    "\n",
    "\n"
   ]
  },
  {
   "cell_type": "markdown",
   "id": "acba23ae",
   "metadata": {},
   "source": [
    "**How does the actual plot look like?**\n",
    "<tr>\n",
    "    <td> <img src=\"img/52.H_jw_complex_pole_bode_w_eq_w0_actual_1.png\" alt=\"52.H_jw_complex_pole_bode_w_eq_w0_actual.png\" style=\"width: 550px;\"/> </td>\n",
    "</tr>       \n",
    "\n",
    "- Remember: - This is still an approximation!"
   ]
  },
  {
   "cell_type": "markdown",
   "id": "6c18937e",
   "metadata": {},
   "source": [
    "To do a better approximation of the phase, sometime we identify $w_0^- = \\frac{w_0}{5^\\xi}, w_0^+ = w_05^\\xi$ and we connect them with a straight line."
   ]
  },
  {
   "cell_type": "markdown",
   "id": "5ef149cd",
   "metadata": {},
   "source": [
    "Here is a more accurate representation of the Bode plots for a pair of complex poles and how their response changes with $\\xi$."
   ]
  },
  {
   "cell_type": "markdown",
   "id": "9c9c869a",
   "metadata": {},
   "source": [
    "<table style='margin: 0 auto' rules=none>\n",
    "<tr>\n",
    "<td> <img src=\"img/34.complex-poles-amplitude-corrected.png\" alt=\"34.complex-poles-amplitude-corrected\" style=\"width: 450px;\"/> </td>\n",
    "<td> <img src=\"img/36.phase-complex-roots.png\" alt=\"36.phase-complex-roots\" style=\"width: 450px;\"/> </td>\n",
    "</tr>\n",
    "</table>"
   ]
  },
  {
   "cell_type": "markdown",
   "id": "83a30bea",
   "metadata": {},
   "source": [
    "**Transfer function with a pair of complex zeros**\n",
    "- The frequency response of complex zeros can be obtained from what we know already\n",
    "- Reflection of the response of a pole about the horizontal axis.\n"
   ]
  },
  {
   "cell_type": "markdown",
   "id": "558769c4",
   "metadata": {},
   "source": [
    "### Final comments"
   ]
  },
  {
   "cell_type": "markdown",
   "id": "438118d6",
   "metadata": {},
   "source": [
    "- Drawing Body plots is easy once we understand the key rules\n",
    "- Makes it possible to understand how adding poles/zeros changes the frequency response of the system\n",
    "- Really useful when desigining controllers or filters"
   ]
  },
  {
   "cell_type": "markdown",
   "id": "a465f3d0",
   "metadata": {},
   "source": [
    "------------------------"
   ]
  },
  {
   "cell_type": "markdown",
   "id": "5034db71",
   "metadata": {},
   "source": [
    "### OK, really the final comment - Bode plot of a delay"
   ]
  },
  {
   "cell_type": "markdown",
   "id": "a4db53c7",
   "metadata": {},
   "source": [
    "The transfer function of a delay is $G(s)=e^{-s\\tau}$.\n",
    "\n",
    "The frequency response $G(j\\omega)=1 e^{-j\\omega\\tau}$ is already a phasor!\n",
    "\n",
    "$$|e^{-j\\omega\\tau}| = 1$$\n",
    "$$\\angle e^{-j\\omega\\tau} = -\\omega \\tau$$\n",
    "\n",
    "- A delay $\\tau$ introduces a phase shift proportional to the delay and to the frequency."
   ]
  },
  {
   "cell_type": "markdown",
   "id": "da0cf16e",
   "metadata": {},
   "source": [
    "----------------------------------------"
   ]
  },
  {
   "cell_type": "markdown",
   "id": "0ec5f9e1",
   "metadata": {},
   "source": [
    "## Exercises"
   ]
  },
  {
   "cell_type": "markdown",
   "id": "696ff659",
   "metadata": {},
   "source": [
    "### Exercise 1\n",
    "\n",
    "Draw the Bode plot of the system:\n",
    "\n",
    "$$\n",
    "G(s) = \\frac{10^3(s+0.1)}{s(s+1)^2}\n",
    "$$\n",
    "\n",
    "- zeros: $(s+0.1)=0 \\Rightarrow s=-0.1$\n",
    "- poles: $s(s+1)^2=0  \\Rightarrow s=0, s=-1$ (with multiplicity 2)\n",
    "\n",
    "\n",
    "Write the frequency response, setting $s=j\\omega$ as:\n",
    "\n",
    "$$\n",
    "G(j \\omega) = \\frac{10^3 0.1 \\big (1+\\frac{j\\omega}{0.1} \\big )}{j \\omega( 1 + j \\omega )^2}\n",
    "$$\n",
    "\n",
    "- Given that we have a pole at the origin we know that the plot starts with a slope of $-20 \\text{dB/decade}$, and passing through $w=1 \\text{rad/s}$\n",
    "- Constant Gain: $K=0.1 \\cdot 10^3 \\Rightarrow 20\\log_{10}(10^2)=40$\n",
    "\n",
    "<table style='margin: 0 auto' rules=none>\n",
    "<tr>\n",
    "<td> <img src=\"img/ex-1-2-pole-origin.png\" alt=\"ex-1-2-pole-origin\" style=\"width: 650px;\"/> </td>\n",
    "</table>\n",
    "\n",
    "- Zero in $s=0.1$\n",
    "\n",
    "<table style='margin: 0 auto' rules=none>\n",
    "<tr>\n",
    "<td> <img src=\"img/ex-1-3-zeros.png\" alt=\"ex-1-3-zeros\" style=\"width: 650px;\"/> </td>\n",
    "</table>\n",
    "\n",
    "- Poles in $s=1$ with multiplicity 2\n",
    "\n",
    "<table style='margin: 0 auto' rules=none>\n",
    "<tr>\n",
    "<td> <img src=\"img/ex-1-4-double-pole.png\" alt=\"ex-1-4-double-pole\" style=\"width: 650px;\"/> </td>\n",
    "</table>\n",
    "\n",
    "- Summing all contribution together:\n",
    "\n",
    "<table style='margin: 0 auto' rules=none>\n",
    "<tr>\n",
    "<td> <img src=\"img/ex-1-5-final.png\" alt=\"ex-1-5-final\" style=\"width: 650px;\"/> </td>\n",
    "</table>\n",
    "\n",
    "- And we can refine our plot a bit:\n",
    "\n",
    "<table style='margin: 0 auto' rules=none>\n",
    "<tr>\n",
    "<td> <img src=\"img/ex-1-5-final-exact.png\" alt=\"ex-1-5-final-exact\" style=\"width: 650px;\"/> </td>\n",
    "</table>"
   ]
  },
  {
   "cell_type": "markdown",
   "id": "126a83d5",
   "metadata": {},
   "source": [
    "And finally we can ask the Python Control library to plot it for us:"
   ]
  },
  {
   "cell_type": "code",
   "execution_count": null,
   "id": "1db120ef",
   "metadata": {},
   "outputs": [],
   "source": [
    "fig, axs = plt.subplots(2, 1, figsize=(15,10))\n",
    "num = [10**3, 10**3*0.1]\n",
    "den = [1, 2, 1, 0]\n",
    "control.bode_plot(control.tf(num, den), dB=True, omega_limits=(0.001, 1000));"
   ]
  },
  {
   "cell_type": "markdown",
   "id": "2700f65f",
   "metadata": {},
   "source": [
    "### Exercise 2"
   ]
  },
  {
   "cell_type": "markdown",
   "id": "52da8ac2",
   "metadata": {},
   "source": [
    "Draw the Bode plot of the system:\n",
    "\n",
    "$$\n",
    "G(s) = \\frac{10(s+1)}{(s+0.1)(s-1)}\n",
    "$$\n",
    "\n",
    "- zeros: $(s+0.1)=0 \\Rightarrow s=-1$\n",
    "- poles: $(s+0.1)(s-1)=0  \\Rightarrow s=0.1, s=1$\n",
    "\n",
    "\n",
    "Write the frequency response, setting $s=j\\omega$ as:\n",
    "\n",
    "$$\n",
    "G(j \\omega) = \\frac{10 \\big (1+\\frac{j\\omega}{1} \\big ) \\cdot 10 \\cdot -1}{ \\big (1+\\frac{j\\omega}{0.1} \\big ) \\big (1+\\frac{j\\omega}{-1} \\big )}\n",
    "$$\n",
    "\n",
    "- Constant Gain: $K=-1 \\cdot 10 \\cdot 10 \\Rightarrow 20\\log_{10}(10^2)=40$\n",
    "- We do not have any poles/zeros at the origin, the diagram starts constant.\n"
   ]
  },
  {
   "cell_type": "markdown",
   "id": "402dcc8b",
   "metadata": {},
   "source": [
    "\n",
    "<!--table style='margin: 0 auto' rules=none>\n",
    "<tr>\n",
    "<td> <img src=\"img/ex-2-1-gain.png\" alt=\"ex-2-1-gain\" style=\"width: 450px;\"/> </td>\n",
    "</table-->\n",
    "\n",
    "- A pole in $s=-0.1$, a pole in $s=1$ and a zero in $s=-1$\n",
    "\n",
    "<table style='margin: 0 auto' rules=none>\n",
    "<tr>\n",
    "<td> <img src=\"img/ex-2-1-pole-in-01.png\" alt=\"ex-2-1-pole-in-01\" style=\"width: 650px;\"/> </td>\n",
    "</table>\n",
    "\n",
    "- Summing all contribution together:\n",
    "\n",
    "<table style='margin: 0 auto' rules=none>\n",
    "<tr>\n",
    "<td> <img src=\"img/ex-2-1-final.png\" alt=\"ex-2-1-final\" style=\"width: 650px;\"/> </td>\n",
    "</table>\n"
   ]
  },
  {
   "cell_type": "markdown",
   "id": "d66ce6a1",
   "metadata": {},
   "source": [
    "Let's verify that it is correct:"
   ]
  },
  {
   "cell_type": "code",
   "execution_count": null,
   "id": "dc38fb51",
   "metadata": {},
   "outputs": [],
   "source": [
    "fig, axs = plt.subplots(2, 1, figsize=(15,10))\n",
    "num = [10, 10]\n",
    "den = [1, -0.9, -0.1]\n",
    "control.bode_plot(control.tf(num, den), dB=True, omega_limits=(0.001, 1000));"
   ]
  },
  {
   "cell_type": "markdown",
   "id": "79ad572d",
   "metadata": {},
   "source": [
    "## Final notes on Bode Plots"
   ]
  },
  {
   "cell_type": "markdown",
   "id": "d7f55490",
   "metadata": {},
   "source": [
    "- The **frequency response** interpretation of a Bode Plot only holds for stable (or marginally stable) systems \n",
    "- If we apply a sinusoidal input to an unstable system, then the output is not sinuisoidal \n",
    "- Under additional technical hypotesis we can still recover some of the results discussed before, but we will not tackle this here\n",
    "- Note that we can still draw Bode plots for unstable systems\n",
    "\n",
    "\n",
    "Other important properties of the frequency response are:\n",
    "- the resonant peak $M_r$, the largest value of the frequency response, \n",
    "- and the peak frequency $\\omega_{mr}$, the frequency where the maximum occurs,\n",
    "- Bandwidth"
   ]
  },
  {
   "cell_type": "markdown",
   "id": "5e6565c9",
   "metadata": {},
   "source": [
    "### Bandwidth"
   ]
  },
  {
   "cell_type": "markdown",
   "id": "e5d04d39",
   "metadata": {},
   "source": [
    "- Definitions may very with application\n",
    "- For us: **Bandwidth (B) is the range of frequencies for which gain is significant**\n",
    "- We need to define what _significant_ means:\n",
    "   - typically, gain greater than 1/sqrt(2) or a -3 dB on the Bode Plot, **relative to low frequency gain** - i.e. 3dB drop off w.r.t. low frequency (or could be absolute)\n",
    "   - sometimes also gain greater than 0 dB line is used.\n",
    "- Often the bandwidth of interest is for the closed-loop system, but there might be little difference\n",
    "\n",
    "- Bandwidth is an indication of the speed of response of the system: higher bandwidth implies faster transient response (i.e. can track higher frequencies)"
   ]
  },
  {
   "cell_type": "markdown",
   "id": "7e312810",
   "metadata": {},
   "source": [
    "Finding the –3 dB bandwidth of an arbitrary system can be a difficult problem in\n",
    "general. Consider, for example, the standard recipe for computing bandwidth:\n",
    "- Derive the input-output transfer function\n",
    "- Set $s = j\\omega$;\n",
    "- Find the magnitude of the resulting expression;\n",
    "- Set the magnitude = $1/\\sqrt{2}$ of the \"midband\" value (or half of the power); and\n",
    "- Solve for $\\omega_b$\n",
    "\n",
    "Given a transfer function:\n",
    "\n",
    "$$\n",
    "G(s) = \\frac{N(s)}{D(s)}\n",
    "$$\n",
    "\n",
    "we obtain the frequence response as:\n",
    "\n",
    "$$\n",
    "G(j\\omega) = \\frac{N(j\\omega)}{D(j\\omega)}\n",
    "$$\n",
    "\n",
    "If we take magnitude-squared of the frequency response (power):\n",
    "\n",
    "$$\n",
    "|G(j\\omega)|^2 = \\bigg | \\frac{N(j\\omega)}{D(j\\omega)} \\bigg |^2\n",
    "$$\n",
    "\n",
    "we can calculate the $-3 \\text{dB}$ frequency as the frequency which results in half of the power:\n",
    "\n",
    "$$\n",
    "|G(j\\omega_b)|^2 = \\frac{1}{2}\\big | G(j0) \\bigg |^2\n",
    "$$\n",
    "\n",
    "or \n",
    "\n",
    "$$\n",
    "\\bigg | \\frac{N(j\\omega_b)}{D(j\\omega_b)} \\bigg |^2 = \\frac{1}{2}\\bigg | \\frac{N(j0)}{D(j0)} \\bigg |^2\n",
    "$$\n",
    "\n",
    "\n",
    "\n",
    "and we can now solve for $\\omega_b$ to find the bandwidth."
   ]
  },
  {
   "cell_type": "markdown",
   "id": "c45ad6b5",
   "metadata": {},
   "source": [
    "- If the dominant pole approximation holds, the Bandwidth is approximated by the can be frequency of the dominant pole\n",
    "- We can read the bandwidth visually inspecting the Bode plot."
   ]
  },
  {
   "cell_type": "markdown",
   "id": "95eb0ec6",
   "metadata": {},
   "source": [
    "#### Definition 1: Gain greater than -3dB"
   ]
  },
  {
   "cell_type": "code",
   "execution_count": null,
   "id": "dbce8fb7",
   "metadata": {},
   "outputs": [],
   "source": [
    "fig, axs = plt.subplots(2, 1, figsize=(15,10))\n",
    "num = [10, 10]\n",
    "den = [1, -0.9, -0.1]\n",
    "control.bode_plot(control.tf(num, den), dB=True, omega_limits=(0.001, 1000));\n",
    "\n",
    "\n",
    "ax1,ax2 = plt.gcf().axes     # get subplot axes\n",
    "\n",
    "plt.sca(ax1)                 # magnitude plot\n",
    "plt.plot(plt.xlim(),[-3, -3],'r--')\n",
    "plt.plot([13.5, 13.5],plt.ylim(),'r--')\n",
    "plt.text(15, 2, \"0 dB line\");"
   ]
  },
  {
   "cell_type": "markdown",
   "id": "4b32ee05",
   "metadata": {},
   "source": [
    "-3 dB Bandwidth (range of freq. for which gain > -3dB): $13$ rad/s "
   ]
  },
  {
   "cell_type": "markdown",
   "id": "3428d7dd",
   "metadata": {},
   "source": [
    "#### Definition 2: Gain greater than 0 dB"
   ]
  },
  {
   "cell_type": "code",
   "execution_count": null,
   "id": "36fe8fc1",
   "metadata": {},
   "outputs": [],
   "source": [
    "fig, axs = plt.subplots(2, 1, figsize=(15,10))\n",
    "num = [10, 10]\n",
    "den = [1, -0.9, -0.1]\n",
    "control.bode_plot(control.tf(num, den), dB=True, omega_limits=(0.001, 1000));\n",
    "\n",
    "\n",
    "ax1,ax2 = plt.gcf().axes     # get subplot axes\n",
    "\n",
    "plt.sca(ax1)                 # magnitude plot\n",
    "plt.plot(plt.xlim(),[0, 0],'r--')\n",
    "plt.plot([10, 10],plt.ylim(),'r--')\n",
    "plt.text(11, 2, \"0 dB line\");"
   ]
  },
  {
   "cell_type": "markdown",
   "id": "8849b3b1",
   "metadata": {},
   "source": [
    "0 dB Bandwidth (range of freq. for which gain > 0): $10$ rad/s \n",
    "\n",
    "- Not too much difference\n"
   ]
  },
  {
   "cell_type": "markdown",
   "id": "cd79a40e",
   "metadata": {},
   "source": [
    "#### Definition 3: -3dB relative to steady state"
   ]
  },
  {
   "cell_type": "code",
   "execution_count": null,
   "id": "75c8cc63",
   "metadata": {},
   "outputs": [],
   "source": [
    "fig, axs = plt.subplots(2, 1, figsize=(15,10))\n",
    "num = [10, 10]\n",
    "den = [1, -0.9, -0.1]\n",
    "control.bode_plot(control.tf(num, den), dB=True, omega_limits=(0.001, 1000));\n",
    "\n",
    "\n",
    "ax1,ax2 = plt.gcf().axes     # get subplot axes\n",
    "\n",
    "plt.sca(ax1)                 # magnitude plot\n",
    "plt.plot(plt.xlim(),[40-3, 40-3],'r--')\n",
    "plt.plot([0.1, 0.1],plt.ylim(),'r--');"
   ]
  },
  {
   "cell_type": "markdown",
   "id": "c8759689",
   "metadata": {},
   "source": [
    "-3dB Bandwidth relative to low frequency, is $B=[0, 0.1] rad/s$"
   ]
  },
  {
   "cell_type": "markdown",
   "id": "2767a658",
   "metadata": {},
   "source": [
    "#### A different example"
   ]
  },
  {
   "cell_type": "code",
   "execution_count": null,
   "id": "13539305",
   "metadata": {},
   "outputs": [],
   "source": [
    "fig, axs = plt.subplots(2, 1, figsize=(15,10))\n",
    "num = [2.5, 0]\n",
    "den = [4e-5, 0.6, 2554, 250000]\n",
    "control.bode_plot(control.tf(num, den), dB=True, omega_limits=(1, 100000));\n",
    "\n",
    "\n",
    "ax1,ax2 = plt.gcf().axes     # get subplot axes\n",
    "\n",
    "plt.sca(ax1)                 # magnitude plot\n",
    "plt.plot(plt.xlim(),[-60, -60],'r--')\n",
    "plt.plot([100, 100],plt.ylim(),'r--')\n",
    "plt.plot([3000, 3000],plt.ylim(),'r--')\n",
    "plt.text(150, -57, \"Significant gain\");"
   ]
  },
  {
   "cell_type": "markdown",
   "id": "8f29945c",
   "metadata": {},
   "source": [
    "- The bandwidth $B=[100, 3000]$ rad/s\n",
    "- Range of frequency where the gain is significant\n",
    "- Usually easy to visually identify it"
   ]
  },
  {
   "cell_type": "markdown",
   "id": "9d6b3f88",
   "metadata": {},
   "source": [
    "- Given a bandwidth $B=[0, \\omega_b]$\n",
    "- If the slope of the Gain diagram is -20 dB/decade beyond frequency $\\omega_b$, then the system is behaving like a first-order system, with a pole in $\\omega_b$.\n",
    "\n",
    "- This means that the system transient response is characterised by a time constant $\\tau = \\frac{1}{\\omega_b}$\n",
    "- The system is hence the faster, the larger its bandwidth is\n",
    "- The bandwidth is hence a good indicator of the velocity of the system"
   ]
  },
  {
   "cell_type": "markdown",
   "id": "d1c9370a",
   "metadata": {},
   "source": [
    "### Bandwidth and system response\n",
    "\n",
    "- For first order systems the relationship between badnwidth and settling time is $$T_s = \\frac{1}{w_b}$$\n",
    "- Settling time is inversely proportional to the bandiwdth:\n",
    "  - For first order systems the settling time $T_s$ is proportional to the time constant $\\tau$, \n",
    "  - The bandwidth $w_b = \\frac{1}{\\tau}$\n",
    "- Broadly speaking we can say (even for systems of order greater than 1) that the larger the bandwidth, the faster is the response (the shorter is the system settling time)"
   ]
  },
  {
   "cell_type": "markdown",
   "id": "569155e9",
   "metadata": {},
   "source": [
    "### Bandwidth in feedback systems"
   ]
  },
  {
   "cell_type": "markdown",
   "id": "fb521ec4",
   "metadata": {},
   "source": [
    "Given the system:\n",
    "\n",
    "<tr>\n",
    "    <td> <img src=\"img/bandiwdth-feedback-loop.png\" alt=\"bandiwdth-feedback-loop\" style=\"width: 550px;\"/> </td>\n",
    "</tr>\n",
    "\n",
    "\n",
    "$$ \n",
    "Y(s) = \\frac{GR}{1+GR} = G_{c} U(s)\n",
    "$$\n",
    "\n",
    "\n",
    "- For a closed-loop system it is normal to expect no offset for step targets, in steady-state\n",
    "- This means $G_{c}(0) = 1$ or $0 \\text{dB}$\n",
    "- In this case, $B$ is when the gain drops $-3 \\text{dB}$"
   ]
  },
  {
   "cell_type": "markdown",
   "id": "7fd5daa0",
   "metadata": {},
   "source": [
    "For example:\n",
    "\n",
    "- Given a system \n",
    "\n",
    "$$ G(s) = \\frac{2}{s+4} $$\n",
    "\n",
    "- and a compensator\n",
    "\n",
    "$$ R(s) = 2\\frac{s+2}{s} $$\n",
    "\n",
    "The closed loop system is:\n",
    "\n",
    "$$\n",
    "G_{c} = \\frac{GR}{1+GR}\n",
    "$$\n",
    "\n",
    "and is Bode plot is:"
   ]
  },
  {
   "cell_type": "code",
   "execution_count": null,
   "id": "a3254a0e",
   "metadata": {},
   "outputs": [],
   "source": [
    "fig, axs = plt.subplots(2, 1, figsize=(15,10))\n",
    "\n",
    "control.bode_plot(control.tf([4, 8],[1, 8, 8]), dB=True, omega_limits=(0.01, 10));\n",
    "\n",
    "# bandwidth\n",
    "ax1,ax2 = plt.gcf().axes     # get subplot axes\n",
    "\n",
    "plt.sca(ax1)                 # magnitude plot\n",
    "plt.plot(plt.xlim(),[-3, -3],'r--')\n",
    "plt.plot([1.8, 1.8],plt.ylim(),'r--');"
   ]
  },
  {
   "cell_type": "markdown",
   "id": "f18a5b27",
   "metadata": {},
   "source": [
    "- Bandwidth is about $2 \\text{rad/s}$"
   ]
  },
  {
   "cell_type": "markdown",
   "id": "94476038",
   "metadata": {},
   "source": [
    "In feedbak system, with high loop gain, the bandwidth of the closed loop system $G_c$ can be approximated by the knowledge of the loop gain function $GR$:\n",
    "\n",
    "$$\n",
    "G_c = \\frac{RG}{1+RG} \\approx\n",
    "\\begin{cases}\n",
    "1 \\;\\; \\text{if} \\;\\; |RG| \\gg 1 \\newline\n",
    "RG \\;\\; \\text{if} \\;\\; |RG| \\ll 1\n",
    "\\end{cases}\n",
    "$$\n",
    "\n",
    "\n",
    "<tr>\n",
    "    <td> <img src=\"img/close-loop-bandwidth.png\" alt=\"close-loop-bandwidth\" style=\"width: 550px;\"/> </td>\n",
    "</tr>\n",
    "\n"
   ]
  },
  {
   "cell_type": "markdown",
   "id": "22a04e33",
   "metadata": {},
   "source": [
    "### Example\n",
    "\n",
    "$$\n",
    "G(s) = \\frac{1000}{(s+1)^3(s+10)}\n",
    "$$\n",
    "\n",
    "$$\n",
    "G_c(s) = \\frac{G(s)}{1+G(s)}\n",
    "$$\n",
    "\n"
   ]
  },
  {
   "cell_type": "code",
   "execution_count": null,
   "id": "e037df98",
   "metadata": {},
   "outputs": [],
   "source": [
    "fig, axs = plt.subplots(2, 1, figsize=(15,10))\n",
    "\n",
    "mag_ol, phase_ol, omega_ol = control.bode(control.tf([1000],[1, 13, 33, 31, 10]), dB=True, omega_limits=(0.01, 100));\n",
    "mag_cc, phase_cc, omega_cc = control.bode(control.tf([1000],[1, 13, 33, 31, 10+1000]), dB=True, omega_limits=(0.01, 100));\n",
    "\n",
    "# bandwidth\n",
    "ax1,ax2 = plt.gcf().axes     # get subplot axes\n",
    "\n",
    "plt.sca(ax1)                 # magnitude plot\n",
    "plt.text(1, 40, '$G(s)$', color='blue')\n",
    "plt.plot(plt.xlim(),[40-3, 40-3],'b--')\n",
    "plt.plot([0.5, 0.5],plt.ylim(),'b--');\n",
    "plt.text(0.5, -100, '$\\omega_b$', color='blue')\n",
    "\n",
    "plt.plot(plt.xlim(),[-3, -3],'r--')\n",
    "plt.plot([5, 5],plt.ylim(),'r--')\n",
    "plt.text(0.01, 3, '$G_c(s)$', color='orange')\n",
    "plt.text(5, -100, '$\\omega_{bc}$', color='blue');"
   ]
  },
  {
   "cell_type": "code",
   "execution_count": null,
   "id": "52a3ed05",
   "metadata": {},
   "outputs": [],
   "source": []
  }
 ],
 "metadata": {
  "kernelspec": {
   "display_name": "Python 3 (ipykernel)",
   "language": "python",
   "name": "python3"
  }
 },
 "nbformat": 4,
 "nbformat_minor": 5
}
