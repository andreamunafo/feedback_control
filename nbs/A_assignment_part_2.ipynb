{
 "cells": [
  {
   "cell_type": "markdown",
   "id": "95fbe8c0",
   "metadata": {},
   "source": [
    "# Assignment Part 2"
   ]
  },
  {
   "cell_type": "code",
   "execution_count": null,
   "id": "19dd6e9e",
   "metadata": {},
   "outputs": [],
   "source": [
    "#| default_exp assignment_part_2"
   ]
  },
  {
   "cell_type": "markdown",
   "id": "e4321738",
   "metadata": {},
   "source": [
    "--------------------"
   ]
  },
  {
   "cell_type": "markdown",
   "id": "4953b36b",
   "metadata": {},
   "source": [
    "## Nyquist Plot"
   ]
  },
  {
   "cell_type": "markdown",
   "id": "76507ef2",
   "metadata": {},
   "source": [
    "### Q1. Consider a close loop system with unity feedback. \n",
    " - For the $G(s)=s-1$, hand sketch the Nyquist diagram\n",
    " - Determine $Z = N+P$, algebraically find the closed-loop pole location, and show that the closed loop pole location is consistent with the Nyquist diagram calculation. \n",
    " - Use the controller $D(s) = k = 2$."
   ]
  },
  {
   "cell_type": "markdown",
   "id": "3819be87",
   "metadata": {},
   "source": [
    "### Q2. For controller $D(s) = k$ and $G(s) = \\frac{s + 1}{s^2(s + 10)}$\n",
    "\n",
    "- Hand sketch the asymptotes of the Bode plot magnitude and phase for the open-loop transfer function\n",
    "- Hand sketch Nyquist diagram.\n",
    "- Discuss stability margins\n"
   ]
  },
  {
   "cell_type": "markdown",
   "id": "367801ed",
   "metadata": {},
   "source": [
    "## Gain and Phase margins\n",
    "\n",
    "### Q3. Given a closed loop system with unity gain with the following loop transfer function:\n",
    "\n",
    "$$G(s) = \\frac{125(s + 1)}{(s+5)(s^2 +4s+25)}$$\n",
    "\n",
    "- Plot the Bode magnitude and phase plots for the open loop system \n",
    "- Determine the gain and phase margin."
   ]
  },
  {
   "cell_type": "markdown",
   "id": "b92fc184",
   "metadata": {},
   "source": [
    "## Root Locus"
   ]
  },
  {
   "cell_type": "markdown",
   "id": "0ceba484",
   "metadata": {},
   "source": [
    "### Q4. Properties of the Root Locus\n",
    "\n",
    "Given\n",
    "\n",
    "$$G(s) = \\frac{K(s+2)}{(s^2+4s+13)}$$\n",
    "\n",
    "- Calculate the angle of G(s) at the point $(-3 + j0)$ by finding the algebraic sum of angles\n",
    "of the vectors drawn from the zeros and poles of G(s) to the given point.\n",
    "\n",
    "- Determine if the point $(-3 + j0)$ is on the root locus.\n",
    "\n",
    "- If the point specified in a is on the root locus, find the gain, K, using the lengths of the vectors."
   ]
  },
  {
   "cell_type": "markdown",
   "id": "a744f479",
   "metadata": {},
   "source": [
    "### Q5. Sketching the Root Locus"
   ]
  },
  {
   "cell_type": "markdown",
   "id": "0df81632",
   "metadata": {},
   "source": [
    "- Sketch the root locus for the system shown \n",
    "\n",
    "<table style='margin: 0 auto' rules=none>\n",
    "    <tr>\n",
    "    <td> <img src=\"img/homework/assignment-q3-root-locus-1.png\" alt=\"assignment-q3-root-locus-1\" style=\"width: 600px;\"/> </td>    \n",
    "    </tr>\n",
    "</table>\n"
   ]
  },
  {
   "cell_type": "markdown",
   "id": "9ac0db61",
   "metadata": {},
   "source": [
    "## Lead-Lag Compensation Design"
   ]
  },
  {
   "cell_type": "markdown",
   "id": "b08bddaa",
   "metadata": {},
   "source": [
    "### Q6. Design a lead compensator \n",
    "\n",
    "Given a unity feedback system where the plant \n",
    "$$G(s) =  \\frac{K}{s(s+50)(s+120)}$$\n",
    "\n",
    "Design a lag-lead compensator to have:\n",
    "- 20% overshoot\n",
    "- $\\Phi_m > 48^o$\n",
    "- $T_s=0.2s$\n",
    "- Steady state requirement $K_v=\\lim_{s\\rightarrow0}sG(s)=50$"
   ]
  },
  {
   "cell_type": "markdown",
   "id": "dec6648b",
   "metadata": {},
   "source": [
    "## Putting everything together"
   ]
  },
  {
   "cell_type": "markdown",
   "id": "88796962",
   "metadata": {},
   "source": [
    "**Consider the DC motor transfer function between of the motor-load combination which is given by:**\n",
    "\n",
    "$$\n",
    "\\frac{\\theta(s)}{V_f(s)} = \\frac{K_m}{s(Js+f)(L_fs+R_f)} = \\frac{\\frac{K_m}{JL_f}}{s(s+\\frac{f}{J})(s+\\frac{R_f}{L_f})}. \\;\\;\\;\\;(1)\n",
    "$$"
   ]
  },
  {
   "cell_type": "markdown",
   "id": "33f61b2b",
   "metadata": {},
   "source": [
    "The system above can also be written as:\n",
    "\n",
    "$$\n",
    "\\frac{\\theta(s)}{V_f(s)} = \\frac{\\frac{K_m}{JL_f}}{s(s+\\frac{f}{J})(s+\\frac{R_f}{L_f})} = \\frac{\\frac{K_m}{fR_f}}{s(\\tau_f s+1)(\\tau_L s+1)}\n",
    "$$\n",
    "\n",
    "where $\\tau_f=\\frac{L_f}{R_f}$ and $\\tau_L=\\frac{J}{f}$.\n",
    "\n",
    "When $\\tau_L > \\tau_f$, the field time constant $\\tau_f$ can be neglected."
   ]
  },
  {
   "cell_type": "markdown",
   "id": "5955c70c",
   "metadata": {},
   "source": [
    "Let's choose the following values:"
   ]
  },
  {
   "cell_type": "markdown",
   "id": "1610bbaa",
   "metadata": {},
   "source": [
    "- (J)     moment of inertia of the rotor     0.01 kg.m^2\n",
    "- (f)     motor viscous friction constant    0.1 N.m.s\n",
    "- (Ke)    electromotive force constant       0.01 V/rad/sec\n",
    "- (Kt)    motor torque constant              0.01 N.m/Amp\n",
    "- (R)     electric resistance                1 Ohm\n",
    "- (L)     electric inductance                0.5 H\n",
    "\n",
    "_Note that in SI units, $K_e = K_t = K$_"
   ]
  },
  {
   "cell_type": "markdown",
   "id": "4edac7ca",
   "metadata": {},
   "source": [
    "### Q7. Close the loop with a unitary feedback and discuss the system performance."
   ]
  },
  {
   "cell_type": "markdown",
   "id": "9f2a856b",
   "metadata": {},
   "source": [
    "### Q8 Calculate the stability margins"
   ]
  },
  {
   "cell_type": "markdown",
   "id": "911bfe5c",
   "metadata": {},
   "source": [
    "### Q9. Increase the inertia of the rotor and discuss what happens\n",
    "- Use values `J=[0.1, 1, 2]`"
   ]
  },
  {
   "cell_type": "markdown",
   "id": "44157692",
   "metadata": {},
   "source": [
    "### Q10. Designing a Controller for the Motor"
   ]
  },
  {
   "cell_type": "markdown",
   "id": "dcc57598",
   "metadata": {},
   "source": [
    "Design requirements:\n",
    "\n",
    "- $t_r \\approx 2.75 s $ (90%)\n",
    "- Max overshoot $20\\%$ at $5.75s$\n",
    "- Settling time to $\\pm0.05\\%$ $\\approx 11.15s$\n",
    "- Zero steady state error\n",
    "\n",
    "\n",
    "- Choose any method you prefer.\n",
    "- Discuss the performance"
   ]
  },
  {
   "cell_type": "markdown",
   "id": "55ff74a7",
   "metadata": {},
   "source": [
    "### Q11. Optional\n",
    "- What happens if you add noise or load disturbances?\n",
    "- How would you implement a PID controller?\n",
    "\n",
    "- Use notebook `99_workspace` and design a controller for the pendulum attached to the DC motor. You might need to look at notebooks `90_simple_pendulum` and `91_DC_motor` to understand the model of the pendulum and of the motor used."
   ]
  },
  {
   "cell_type": "code",
   "execution_count": null,
   "id": "de7632e9",
   "metadata": {},
   "outputs": [],
   "source": []
  }
 ],
 "metadata": {
  "kernelspec": {
   "display_name": "Python 3 (ipykernel)",
   "language": "python",
   "name": "python3"
  }
 },
 "nbformat": 4,
 "nbformat_minor": 5
}
