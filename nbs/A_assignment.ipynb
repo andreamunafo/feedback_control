{
 "cells": [
  {
   "cell_type": "markdown",
   "id": "3ccd0280",
   "metadata": {},
   "source": [
    "# Assignment Part 1"
   ]
  },
  {
   "cell_type": "code",
   "execution_count": null,
   "id": "19dd6e9e",
   "metadata": {},
   "outputs": [],
   "source": [
    "#| default_exp assignment_part_1"
   ]
  },
  {
   "cell_type": "markdown",
   "id": "e4321738",
   "metadata": {},
   "source": [
    "--------------------"
   ]
  },
  {
   "cell_type": "markdown",
   "id": "dec6648b",
   "metadata": {},
   "source": [
    "## Laplace Transforms"
   ]
  },
  {
   "cell_type": "markdown",
   "id": "4e3aea46",
   "metadata": {},
   "source": [
    "1. Calculate the Laplace Transform $X(s)$ of the signal $x(t)$:\n",
    "\n",
    "$$\n",
    "x(t) = (4t-3cos(5t))e^{-2t}\n",
    "$$"
   ]
  },
  {
   "cell_type": "markdown",
   "id": "e764dca2",
   "metadata": {},
   "source": [
    "2. Calculate the Inverse Laplace Transform $g(t)$ of the transfer function $G(s)$:\n",
    "\n",
    "$$\n",
    "G(s)=2 + \\frac{3}{2s^3+3s^2+s}\n",
    "$$"
   ]
  },
  {
   "cell_type": "markdown",
   "id": "4c2c82c8",
   "metadata": {},
   "source": [
    "## Block Diagrams\n",
    "\n",
    "3. Calculate the equivalent transfer function $G_t(s)=\\frac{Y(s)}{X(s)}$ of the following block diagram:\n",
    "\n",
    "<tr>\n",
    "<td> <img src=\"img/homework/block-diagram-1.png\" alt=\"block-diagram.png\" style=\"width: 550px;\"/> </td>\n",
    "</tr>"
   ]
  },
  {
   "cell_type": "markdown",
   "id": "60b440ed",
   "metadata": {},
   "source": [
    "## System Response"
   ]
  },
  {
   "cell_type": "markdown",
   "id": "1529784b",
   "metadata": {},
   "source": [
    "4. Write the transfer function to a step input of a second order system characterised by:\n",
    "- Static gain $G(0)=5$\n",
    "- Damping ratio $\\xi=0.5$ \n",
    "- Settling time $t_s=3 s$\n",
    "- No zeros"
   ]
  },
  {
   "cell_type": "markdown",
   "id": "dd935de6",
   "metadata": {},
   "source": [
    "5. Plot the qualitative behaviour of the step response of the system:\n",
    "\n",
    "$$\n",
    "G(s)=\\frac{20(3+0.1s)(s^2+10s+160)}{(2s+10)(0.1s+5)(s^2+2s+400)}\n",
    "$$"
   ]
  },
  {
   "cell_type": "markdown",
   "id": "39dfe45e",
   "metadata": {},
   "source": [
    "6. For the system $G(s)$ defined above, calculate:\n",
    "\n",
    "- Its steady state value $y_\\infty$ to a step input (when $t \\rightarrow \\infty$)\n",
    "- Its settling time $t_s$\n",
    "- If the system oscillates, calculate the period $T_\\omega$ of the oscillation"
   ]
  },
  {
   "cell_type": "markdown",
   "id": "f4783d76",
   "metadata": {},
   "source": [
    "## Routh Criterion\n",
    "\n",
    "7. Determine the values of $K$ for which the following feedback system is asymptotically stable:\n",
    "\n",
    "<tr>\n",
    "<td> <img src=\"img/homework/block-diagram-routh.png\" alt=\"block-diagram-routh.png\" style=\"width: 550px;\"/> </td>\n",
    "</tr>\n"
   ]
  },
  {
   "cell_type": "markdown",
   "id": "54e7e883",
   "metadata": {},
   "source": [
    "## Bode Plots\n",
    "\n",
    "8. Plot the Bode amplitude and phase plots for the system $G_d(s)$ discussed in question 7."
   ]
  },
  {
   "cell_type": "code",
   "execution_count": null,
   "id": "257fff48",
   "metadata": {},
   "outputs": [],
   "source": []
  }
 ],
 "metadata": {
  "kernelspec": {
   "display_name": "Python 3 (ipykernel)",
   "language": "python",
   "name": "python3"
  }
 },
 "nbformat": 4,
 "nbformat_minor": 5
}
