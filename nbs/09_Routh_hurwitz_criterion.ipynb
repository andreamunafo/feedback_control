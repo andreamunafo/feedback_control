{
 "cells": [
  {
   "cell_type": "markdown",
   "id": "a6e3d4de",
   "metadata": {},
   "source": [
    "# Routh-Hurwitz Criterion"
   ]
  },
  {
   "cell_type": "code",
   "execution_count": null,
   "id": "2e901fb4",
   "metadata": {},
   "outputs": [],
   "source": [
    "#| default_exp routh_hurwitz_criterion"
   ]
  },
  {
   "cell_type": "code",
   "execution_count": null,
   "id": "d463d0ed",
   "metadata": {},
   "outputs": [],
   "source": [
    "#| include: false\n",
    "%load_ext autoreload\n",
    "%autoreload 2"
   ]
  },
  {
   "cell_type": "code",
   "execution_count": null,
   "id": "daab8e57",
   "metadata": {},
   "outputs": [],
   "source": [
    "#| export\n",
    "import numpy as np\n",
    "import matplotlib.pyplot as plt\n",
    "import control"
   ]
  },
  {
   "cell_type": "code",
   "execution_count": null,
   "id": "f7e9b938",
   "metadata": {},
   "outputs": [],
   "source": [
    "#| include: false\n",
    "%matplotlib inline"
   ]
  },
  {
   "cell_type": "markdown",
   "id": "bc8a7f2d",
   "metadata": {},
   "source": [
    "## Background\n",
    "\n",
    "- Given a system with transfer function $G(s) = \\frac{N(s)}{D(s)}$: in order for a system to be stable, all the roots of its characteristic equation $D(s)=0$ must have $Re < 0$\n",
    "- The roots of the characteristic equation $D(s)=0$ are the poles of the transfer function $G(s)$."
   ]
  },
  {
   "cell_type": "markdown",
   "id": "727d775d",
   "metadata": {},
   "source": [
    "For example:\n",
    "\n",
    "$$G(s) = \\frac{1}{s+a}$$\n",
    "\n",
    "whose inverse Laplace transform to get the time domain representation is:\n",
    "\n",
    "$$\\mathcal{L}^{-1}(G(s)) = e^{-at} = e^{st}$$\n",
    "\n",
    "- if $a > 0$, the system is stable: signals go to zero as time goes to infinity.\n",
    "\n",
    "- if $a < 0$, the system is unstable: the response of the system goes to infinity."
   ]
  },
  {
   "cell_type": "markdown",
   "id": "41406e5a",
   "metadata": {},
   "source": [
    "We can have more complex transfer functions:\n",
    "\n",
    "$$G(s) = \\frac{1}{s+a}\\frac{1}{s+b}\\frac{1}{s+c}...$$\n",
    "\n",
    "and we know that we can always simplify a transfer function using partial fraction expansion:\n",
    "\n",
    "$$G(s) = \\frac{A}{s+a} + \\frac{B}{s+b} + \\frac{C}{s+c}...$$\n",
    "\n",
    "and\n",
    "\n",
    "$$\\mathcal{L}^{-1}(G(s)) = Ae^{-at} + Be^{-bt} + Ce^{-ct}...$$\n",
    "\n",
    "**If there is one root that is unstable, the system is unstable.**\n",
    "\n",
    "- We know that we can determine the stability of the system calculating the roots of the characteristic equation\n",
    "\n",
    "- Calculating the roots of a polynomial for $n>2$ is time consuming, and possibly even impossible in closed form\n",
    "\n",
    "$$12s^5+14s^4+3s^3+s^2+16s+11=0$$\n",
    "\n",
    "- We would like to determine stability (hence the roots of $D(s)=0$) without solving for the roots directly\n",
    "\n",
    "- This is where the Routh-Hurwitz criterion can help us\n"
   ]
  },
  {
   "cell_type": "markdown",
   "id": "cde4f364",
   "metadata": {},
   "source": [
    "------------"
   ]
  },
  {
   "cell_type": "markdown",
   "id": "a955c833",
   "metadata": {},
   "source": [
    "Routh–Hurwitz stability criterion\n",
    "> _All the roots of a polinomial have $Re<0$ if and only if a certain set of algebraic combinations (i.e. fill out the RH array) of its coefficients have the same signs_\n",
    "\n",
    "- The **Routh–Hurwitz stability criterion** is a mathematical test that is a necessary and sufficient condition for the stability of a linear time invariant (LTI) control system\n",
    "- Determine whether all the roots of the characteristic polynomial of a linear system have negative real parts\n",
    "- The importance of the criterion is that the roots $p$ of the characteristic equation of a linear system with negative real parts represent solutions $e^{pt}$ of the system that are stable (bounded). \n",
    "- The criterion provides a way to determine if the equations of motion of a linear system have only stable solutions, without solving the system directly\n",
    "\n"
   ]
  },
  {
   "cell_type": "markdown",
   "id": "cf2b4b40",
   "metadata": {},
   "source": [
    "Given:\n",
    "\n",
    "$$G(s) = \\frac{N(s)}{D(s)}$$\n",
    "\n",
    "- If all the signs of the coefficients are _NOT_ the same, then the system is **unstable**\n",
    "   - e.g. $s^5+3s^3-4s^2+s+1$ $\\rightarrow$ _unstable_\n",
    "   \n",
    "- If all the signs are the same, then the system can be stable or unstable\n",
    "\n",
    "For example:\n",
    "\n",
    "$$G(s) = \\frac{1}{(s^2-s+4)(s+2)(s+1)}$$\n",
    "\n",
    "the roots are $0.5\\pm j1.9365$ (unstable roots), $-2, -1 \\Rightarrow$ we have two roots with $Re > 0$.\n",
    "\n",
    "If we write the characteristic equation however:\n",
    "\n",
    "$$s^4+2s^3+3s^2+10s+8 = 0$$\n",
    "\n",
    "- All coefficients have the same sign. We need to use the RHC and populate the Routh array"
   ]
  },
  {
   "cell_type": "markdown",
   "id": "f7c71915",
   "metadata": {},
   "source": [
    "---------------"
   ]
  },
  {
   "cell_type": "markdown",
   "id": "faa18330",
   "metadata": {},
   "source": [
    "## Routh-Hurwitz array"
   ]
  },
  {
   "cell_type": "markdown",
   "id": "87de8634",
   "metadata": {},
   "source": [
    "A tabular method can be used to determine the stability when the roots of a higher order characteristic polynomial are difficult to obtain. \n",
    "\n",
    "For an $n$th-degree polynomial\n",
    "\n",
    "$$\n",
    "D(s)=a_{n}s^{n}+a_{{n-1}}s^{{n-1}}+\\cdots +a_{1}s+a_{0}\n",
    "$$\n",
    "\n",
    "the table has $n + 1$ rows and the following structure:\n",
    "\n",
    "|           |           |           |           |     |\n",
    "|  ------   |  ------   |  ------   |  ------   | --- |\n",
    "| $s^n$     | $a_{n}$   | $a_{n-2}$ | $a_{n-4}$ | $...$ |\n",
    "| $s^{n-1}$ | $a_{n-1}$ | $a_{n-3}$ | $a_{n-5}$ | $...$ |\n",
    "| $...$     | $b_1$     | $b_2$     | $b_3$     | $...$ |\n",
    "| $...$     | $c_1$     | $c_2$     | $c_3$     | $...$ |\n",
    "| $s^{1}$   | $...$     | $...$     | $...$     | $...$ |\n",
    "| $s^{0}$   | $...$     | $...$     | $...$     | $...$ |\n",
    "\n",
    "\n"
   ]
  },
  {
   "cell_type": "markdown",
   "id": "53d53d90",
   "metadata": {},
   "source": [
    "where the elements $b_{i}$ and $c_{i}$ can be computed as follows:\n",
    "\n",
    "$$\n",
    "{\\displaystyle b_{i}={\\frac {a_{n-1}\\times {a_{n-2i}}-a_{n}\\times {a_{n-(2i+1)}}}{a_{n-1}}}.}\n",
    "$$\n",
    "\n",
    "$$\n",
    "{\\displaystyle c_{i}={\\frac {b_{1}\\times {a_{n-(2i+1)}}-a_{n-1}\\times {b_{i+1}}}{b_{1}}}.}\n",
    "$$\n",
    "\n",
    "- When completed, the number of sign changes in the first column will be the number of non-negative roots."
   ]
  },
  {
   "cell_type": "markdown",
   "id": "946be4c0",
   "metadata": {},
   "source": [
    "### Examples"
   ]
  },
  {
   "cell_type": "markdown",
   "id": "04fccdfe",
   "metadata": {},
   "source": [
    "$$G(s) = \\frac{1}{(s^2-s+4)(s+2)(s+1)} = \\frac{1}{s^4+2s^3+3s^2+10s+8}$$\n",
    "\n",
    "\n",
    "|           |      |      |      |\n",
    "|  ------   |  ------   |  -   |  -   |\n",
    "| $s^4$     |  $1$   |  $3$   |  $8$   |\n",
    "| $s^{3}$   |  $2$   | $10$   |      |\n",
    "| $s^2$     |  $\\frac{2\\cdot3-1\\cdot10}{2}=-2$  |   $\\frac{2\\cdot8-1\\cdot0}{2}=8$     |      |\n",
    "| $s^{1}$   |  $\\frac{-2\\cdot10-2\\cdot8}{-2}=18$    |   $0$   |      |\n",
    "| $s^{0}$   |  $\\frac{18\\cdot8-2\\cdot0}{2}=8$    |      |      |\n",
    "\n",
    "\n",
    "- Determine the number of roots in RHP by counting the number of sign changes in the first column: **the are two sign changes, hence there are two roots with $Re>0$**\n",
    "- The system is unstable."
   ]
  },
  {
   "cell_type": "markdown",
   "id": "f2a459f5",
   "metadata": {},
   "source": [
    "$$G(s) = \\frac{1}{s^4+2s^3+3s^2+4s+5}$$\n",
    "\n",
    "\n",
    "|           |      |      |      |\n",
    "|  ------   |  ------   |  -   |  -   |\n",
    "| $s^4$     |  $1$   |  $3$   |  $5$   |\n",
    "| $s^{3}$   |  $2$   | $4$   |   $0$   |\n",
    "| $s^2$     |  $\\frac{2\\cdot3-1\\cdot4}{2}=1$  |   $\\frac{2\\cdot5-1\\cdot0}{2}=5$     |      |\n",
    "| $s^{1}$   |  $\\frac{1\\cdot4-2\\cdot5}{1}=-6$    |   $0$   |      |\n",
    "| $s^{0}$   |  $\\frac{-6\\cdot5-1\\cdot0}{-6}=5$    |      |      |\n",
    "\n",
    "- We have two roots with $Re>0$\n",
    "\n",
    "- Roots: $-1.28\\pm j0.858, 0.28\\pm j1.416$"
   ]
  },
  {
   "cell_type": "markdown",
   "id": "86bad249",
   "metadata": {},
   "source": [
    "### Routh-Hurwitz criterion: special cases"
   ]
  },
  {
   "cell_type": "markdown",
   "id": "5c31798f",
   "metadata": {},
   "source": [
    "### Special case 1)\n",
    "\n",
    "- A zero in a row with at least one non-zero appearing later in the row\n",
    "- The system is always unstable\n",
    "- We can still fill out the table to know how many are unstable\n",
    "\n",
    "- Example 1:\n",
    "\n",
    "$$G(s) = \\frac{1}{1s^4+2s^3+0s^2+3s+4}$$\n",
    "\n",
    "\n",
    "|           |      |      |      |\n",
    "|  ------   |  ------   |  -   |  -   |\n",
    "| $s^4$     |  $1$   |  $0$   |  $4$   |\n",
    "| $s^{3}$   |  $2$   | $3$   |   $0$   |\n",
    "| $s^2$     |  $\\frac{2\\cdot0-1\\cdot3}{2}=\\frac{-3}{2}$  |    |      |\n",
    "| $s^{1}$   |     |     |      |\n",
    "| $s^{0}$   |      |      |      |\n",
    "\n",
    "We can already say that the system is unstable\n",
    "\n",
    "\n",
    "- Example 2:\n",
    "$$G(s) = \\frac{1}{1s^4+2s^3+2s^2+4s+5}$$\n",
    "\n",
    "|           |      |      |      |\n",
    "|  ------   |  ------   |  -   |  -   |\n",
    "| $s^4$     |  $1$   |  $2$   |  $5$   |\n",
    "| $s^{3}$   |  $2$   | $4$   |   $0$   |\n",
    "| $s^2$     |  $0 \\rightarrow \\epsilon$  |   $5$    |      |\n",
    "| $s^{1}$   |  $\\frac{\\epsilon\\cdot4-2\\cdot5}{\\epsilon}$    |   $0$   |      |\n",
    "| $s^{0}$   |  $5$    |      |      |\n",
    "\n",
    "- To calculate the coefficients we need to calculate the values for \n",
    "$\\lim \\limits_{\\epsilon\\rightarrow0} $\n",
    "\n",
    "|           |      |      |      |\n",
    "|  ------   |  ------   |  -   |  -   |\n",
    "| $s^4$     |  $1$   |  $2$   |  $5$   |\n",
    "| $s^{3}$   |  $2$   | $4$   |   $0$   |\n",
    "| $s^2$     |  $0^+$  |   $5$    |      |\n",
    "| $s^{1}$   |  $4-\\frac{10}{\\epsilon} = -\\infty$    |   $0$   |      |\n",
    "| $s^{0}$   |  $5$    |      |      |\n",
    "\n",
    "- We have two roots with $Re > 0$"
   ]
  },
  {
   "cell_type": "markdown",
   "id": "f684099c",
   "metadata": {},
   "source": [
    "### Special case 2)\n",
    "\n",
    "- An entire row is zeros\n",
    "\n",
    "$$G(s) = \\frac{1}{1s^5+2s^4+6s^3+10s^2+8s+12}$$\n",
    "\n",
    "|           |      |      |      |\n",
    "|  ------   |  ------   |  -   |  -   |\n",
    "| $s^5$     |  $1$   |  $6$   |  $8$   |\n",
    "| $s^4$     |  $2$   |  $10$   |  $12$   |\n",
    "| $s^{3}$   |  $1$   | $2$   |   $0$   |\n",
    "| $s^2$     |  $6$   |   $12$    |  $0$    |\n",
    "| $s^{1}$   |  $0$   |   $0$   |   $0$   |\n",
    "| $s^{0}$   |  $?$   |      |      |\n",
    "\n",
    "\n",
    "- There are only 3 possible conditions that can lead to a Routh array with all zeros in a row:\n",
    "  - two real roots, equal and opposite in sign $\\Rightarrow$ **unstable**\n",
    "  - two imaginary roots, that are complex conjugate of each other $\\Rightarrow$ **marginally stable - response is oscillatory**\n",
    "  - four roots that are all equal distance from the origin $\\Rightarrow$ **unstable**\n",
    "  \n",
    "<tr>\n",
    "<td> <img src=\"img/rhc-all-cases.png\" alt=\"rhc-all-cases\" style=\"width: 900px;\"/> </td>\n",
    "</tr>  \n",
    "\n",
    "- To determine the system stability:\n",
    "\n",
    "- Here is the original table:\n",
    "|           |      |      |      |\n",
    "|  ------   |  ------   |  -   |  -   |\n",
    "| $s^5$     |  $1$   |  $6$   |  $8$   |\n",
    "| $s^4$     |  $2$   |  $10$   |  $12$   |\n",
    "| $s^{3}$   |  $1$   | $2$   |   $0$   |\n",
    "| $s^2$     |  $6$   |   $12$    |  $0$    |\n",
    "| $s^{1}$   |  $0$   |   $0$   |   $0$   |\n",
    "| $s^{0}$   |  $?$   |      |      |\n",
    "\n",
    "  - We build the **auxiliary polinomial** using the row right above the one that is zero:\n",
    "     - Those are the coefficients of the auxiliary polinomial\n",
    "     -  $p(s)=6s^2+12s^0=0 \\rightarrow p(s)=s^2+2$\n",
    "     - Note that we are skipping every other power\n",
    "  - Take the derivative of $p(s)$:\n",
    "     $\\frac{d}{ds}p(s)=2s$\n",
    "     and replace the all zero row with the coefficient of $\\frac{d}{ds}p(s)$\n",
    "  - Complete the table as we would normally\n",
    " \n",
    " \n",
    " |           |      |      |      |\n",
    "|  ------   |  ------   |  -   |  -   |\n",
    "| $s^5$     |  $1$   |  $6$   |  $8$   |\n",
    "| $s^4$     |  $2$   |  $10$   |  $12$   |\n",
    "| $s^{3}$   |  $1$   | $2$   |   $0$   |\n",
    "| $s^2$     |  $6$   |   $12$    |  $0$    |\n",
    "| $s^{1}$   |  $2$   |   $0$   |   $0$   |\n",
    "| $s^{0}$   |  $12$   |      |      |\n",
    "\n",
    "- No sign changes in the first column, hence no roots with $Re >0$.\n",
    "- This means that the system must have two imaginary roots and is marginally stable."
   ]
  },
  {
   "cell_type": "markdown",
   "id": "51cdb3f8",
   "metadata": {},
   "source": [
    "### Additional comments:"
   ]
  },
  {
   "cell_type": "markdown",
   "id": "e472e284",
   "metadata": {},
   "source": [
    "- The auxiliary polinomial $p(s)$ exists if and only if there is an all zero row in the routh array, and it is a factor of the original polinomial $q(s)$ (it divides the original polinomial with no reminder):\n",
    "\n",
    "$$p(s)r(s)=q(s)$$\n",
    "\n",
    "- This makes it possible to calculate how many roots have $Re<0$, how many $Re=0$ and how many $Re>0$\n",
    "\n",
    "- We can determine $r(s) = \\frac{q(s)}{p(s)}$ (polinomial division)\n",
    "\n",
    "In our case:\n",
    "\n",
    "$$\n",
    "(s^5+2s^4+6s^3+10s^2+8s+12)\\;\\; :\\;\\; (s^2+2)\n",
    "$$\n",
    "\n",
    "$$\\Downarrow$$\n",
    "\n",
    "$$\n",
    "r(s) = s^3 + 2s^2+4s+6\n",
    "$$\n",
    "\n",
    "and this means:\n",
    "$$\n",
    "q(s)= (s^2+2)(s^3 + 2s^2+4s+6)\n",
    "$$\n",
    "\n",
    "- Only true if we have a row of all zeros, or we will have some non zero reminder when we do the division\n",
    "\n",
    "If we now re-write our table here:\n",
    "\n",
    " |           |      |      |      |\n",
    "|  ------   |  ------   |  -   |  -   |\n",
    "| $s^5$     |  $1$   |  $6$   |  $8$   |\n",
    "| $s^4$     |  $2$   |  $10$   |  $12$   |\n",
    "| $s^{3}$   |  $1$   | $2$   |   $0$   |\n",
    "| $s^2$     |  $6$   |   $12$    |  $0$    |\n",
    "| $s^{1}$   |  $2$   |   $0$   |   $0$   |\n",
    "| $s^{0}$   |  $12$   |      |      |\n",
    "\n",
    "\n",
    "\n",
    "- Any part of the table above the auxiliary polinomial $p(s)=6s^2+12 = s^2+2$ is due to the factor $r(s)=s^3 + 2s^2+4s+6$, and since there are not sign changes we can say that $r(s)$ is stable.\n",
    "- The other part of the table is due to the auxiliary polinomial $p(s)$: the number of sign changes after $p(s)$ in the table predicts the number of $Re>0$ roots for $p(s)$\n",
    "\n",
    "- Given that we have $p(s) = s^2+2 \\Rightarrow s = \\sqrt{-2} = \\pm j\\sqrt{2} \\Rightarrow$ Two complex conjugate roots, the system is marginally stable (what we expected)"
   ]
  },
  {
   "cell_type": "markdown",
   "id": "55f0ac0c",
   "metadata": {},
   "source": [
    "## Practical uses: beyond stability"
   ]
  },
  {
   "cell_type": "markdown",
   "id": "d1b33e35",
   "metadata": {},
   "source": [
    "- How can we use the Routh Criterion for more than just assessing stability"
   ]
  },
  {
   "cell_type": "markdown",
   "id": "35839024",
   "metadata": {},
   "source": [
    "Suppose you have an open loop system:\n",
    "\n",
    "$$\n",
    "G(s) =\\frac{1}{s^4+6s^3+11s^2+6s+2}\n",
    "$$"
   ]
  },
  {
   "cell_type": "markdown",
   "id": "3ef2b735",
   "metadata": {},
   "source": [
    "And we can verify its step response:"
   ]
  },
  {
   "cell_type": "code",
   "execution_count": null,
   "id": "1e4d9de9",
   "metadata": {},
   "outputs": [],
   "source": [
    "# Import relevant libraries (we have imported them already so we comment these out)\n",
    "# import control\n",
    "# import matplotlib.pylab as plt"
   ]
  },
  {
   "cell_type": "code",
   "execution_count": null,
   "id": "221d54ad",
   "metadata": {},
   "outputs": [],
   "source": [
    "sys = control.tf([1], [1, 6, 11, 6, 2])\n",
    "T, yout = control.step_response(sys)"
   ]
  },
  {
   "cell_type": "code",
   "execution_count": null,
   "id": "08280c46",
   "metadata": {},
   "outputs": [
    {
     "data": {
      "image/png": "[encoded data removed]",
      "text/plain": [
       "<Figure size 640x480 with 1 Axes>"
      ]
     },
     "metadata": {},
     "output_type": "display_data"
    }
   ],
   "source": [
    "fig = plt.figure()\n",
    "\n",
    "plt.plot(T, yout)\n",
    "plt.grid()\n",
    "plt.xlabel('Time (s)')\n",
    "plt.ylabel('Response');"
   ]
  },
  {
   "cell_type": "markdown",
   "id": "aab31510",
   "metadata": {},
   "source": [
    "Design requirement:\n",
    "- improve system response time\n",
    "\n",
    "We can add feedback:\n",
    "\n",
    "\n",
    "<table style='margin: 0 auto' rules=none>\n",
    "<tr>\n",
    "<td> <img src=\"img/rhc-beyond-stability-1.png\" alt=\"rhc-beyond-stability\" style=\"width: 500px;\"/> </td>\n",
    "</tr>\n",
    "</table>"
   ]
  },
  {
   "cell_type": "markdown",
   "id": "78bbf527",
   "metadata": {},
   "source": [
    "- $U(s)$ is the reference signal (e.g. desired angle, etc.)\n",
    "- Note that the feedback path is unitary: perfect sensor (it always knows the output signal (e.g. system angle) with no delay or error)\n",
    "- We want to tune the gain $K$ to get the response that we desire\n",
    "   - Adjusting the gain increases the amplitude of the signal (err)\n",
    "   - In an open loop linear system we can increase the amplitude \"as much as we want\" (it does not affect stability)\n",
    "   - The feedback loop however changes the dynamics\n",
    "   \n",
    "- Typical requirement: **increase the gain large enough to meet our requirements (e.g. fastest response) while keeping the system stable**\n",
    "\n",
    "\n",
    "- Let's assess the closed loop stability using RHC\n",
    "\n",
    "- 1. Simplify the block diagram:\n",
    "    $$\n",
    "    \\hat{G}(s) = \\frac{\\frac{K}{s^4+6s^3+11s^2+6s+2}}{1+\\frac{K}{s^4+6s^3+11s^2+6s+2}} = \\frac{K}{s^4+6s^3+11s^2+6s+2 + K}\n",
    "    $$\n",
    "  \n",
    "  The new characteristic equation for the closed loop system is:\n",
    "  $$  \n",
    "  s^4+6s^3+11s^2+6s+2 + K = 0\n",
    "  $$\n",
    "  \n",
    "- 2. Build the Routh array\n",
    "\n",
    "|           |      |      |      |\n",
    "|  ------   |  ------   |  -   |  -   |\n",
    "| $s^4$     |  $1$   |  $11$   |  $24+K$   |\n",
    "| $s^{3}$   |  $6$   | $6$   |   $0$   |\n",
    "| $s^2$     |  $10$  |   $K+2$    |      |\n",
    "| $s^{1}$   |  $48-6K$    |     |      |\n",
    "| $s^{0}$   |  $K+2$    |      |      |"
   ]
  },
  {
   "cell_type": "markdown",
   "id": "aef3ac1e",
   "metadata": {},
   "source": [
    "- To have asymptotic stability:\n",
    "  - $48-6K > 0 \\rightarrow K < 8$ \n",
    "  - $K+2>0 \\rightarrow K > -2$\n",
    "  - Stability range is $-2 < K < 8$\n",
    "  \n",
    "- When $K=-2$, we have a pole at the origin\n",
    "- When $K=8$, we have a pair of imaginary poles and the system is marginally stable\n",
    "  \n",
    "- We know the gain margin that we have before the system becomes unstable\n",
    "- We do not know where the poles are exactly (we only know when they cross the imaginary axis)"
   ]
  },
  {
   "cell_type": "code",
   "execution_count": null,
   "id": "7d2ef959",
   "metadata": {},
   "outputs": [],
   "source": [
    "K = 2 #8"
   ]
  },
  {
   "cell_type": "code",
   "execution_count": null,
   "id": "b36045d4",
   "metadata": {},
   "outputs": [],
   "source": [
    "sys = control.tf([K], [1, 6, 11, 6, 2+K])\n",
    "T_k, yout_k = control.step_response(sys)"
   ]
  },
  {
   "cell_type": "code",
   "execution_count": null,
   "id": "a6aadec9",
   "metadata": {},
   "outputs": [
    {
     "data": {
      "image/png": "[encoded data removed]",
      "text/plain": [
       "<Figure size 640x480 with 1 Axes>"
      ]
     },
     "metadata": {},
     "output_type": "display_data"
    }
   ],
   "source": [
    "fig = plt.figure()\n",
    "\n",
    "plt.plot(T, yout, label='original')\n",
    "plt.plot(T_k, yout_k, label='feedback')\n",
    "plt.grid()\n",
    "plt.legend()\n",
    "plt.xlabel('Time (s)')\n",
    "plt.ylabel('Response');"
   ]
  },
  {
   "cell_type": "markdown",
   "id": "829d62d0",
   "metadata": {},
   "source": [
    "### Example 2"
   ]
  },
  {
   "cell_type": "markdown",
   "id": "f039a413",
   "metadata": {},
   "source": [
    "Suppose you have an open loop system:\n",
    "\n",
    "$$\n",
    "G(s) =\\frac{1}{s^4+10s^3+35s^2+50s+24} = \\frac{1}{(s+1)(s+2)(s+3)(s+4)}\n",
    "$$"
   ]
  },
  {
   "cell_type": "markdown",
   "id": "d1c3f071",
   "metadata": {},
   "source": [
    "And we can plot its step response:"
   ]
  },
  {
   "cell_type": "code",
   "execution_count": null,
   "id": "adbe8c43",
   "metadata": {},
   "outputs": [],
   "source": [
    "sys = control.tf([1], [1, 10, 35, 50, 24])\n",
    "T, yout = control.step_response(sys)"
   ]
  },
  {
   "cell_type": "code",
   "execution_count": null,
   "id": "39ac117c",
   "metadata": {},
   "outputs": [
    {
     "data": {
      "text/plain": [
       "Text(0, 0.5, 'Response')"
      ]
     },
     "execution_count": null,
     "metadata": {},
     "output_type": "execute_result"
    },
    {
     "data": {
      "image/png": "[encoded data removed]",
      "text/plain": [
       "<Figure size 640x480 with 1 Axes>"
      ]
     },
     "metadata": {},
     "output_type": "display_data"
    }
   ],
   "source": [
    "fig = plt.figure()\n",
    "\n",
    "plt.plot(T, yout, label='original')\n",
    "plt.grid()\n",
    "plt.xlabel('Time (s)')\n",
    "plt.ylabel('Response')"
   ]
  },
  {
   "cell_type": "markdown",
   "id": "2bf28b03",
   "metadata": {},
   "source": [
    "Design requirement:\n",
    "- improve system response time\n",
    "\n",
    "We can add feedback:\n",
    "\n",
    "\n",
    "<table style='margin: 0 auto' rules=none>\n",
    "<tr>\n",
    "<td> <img src=\"img/rhc-beyond-stability-1.png\" alt=\"rhc-beyond-stability\" style=\"width: 500px;\"/> </td>\n",
    "</tr>\n",
    "</table>"
   ]
  },
  {
   "cell_type": "markdown",
   "id": "9dd6863c",
   "metadata": {},
   "source": [
    "- $U(s)$ is the reference signal (e.g. desired angle, etc.)\n",
    "- Note that the feedback path is unitary: perfect sensor (it always knows the output signal (e.g. system angle) with no delay or error)\n",
    "- We want to tune the gain $K$ to get the response that we desire\n",
    "   - Adjusting the gain increases the amplitude of the signal (err)\n",
    "   - In an open loop linear system we can increase the amplitude as much as we want\n",
    "   - The feedback loop however changes the dynamics\n",
    "- Typical requirement: increase the gain large enough to meet our requirements (e.g. fastest response) while keeping the system stable\n",
    "\n",
    "- Let's assess the closed loop stability using RHC\n",
    "\n",
    "- 1. Simplify the block diagram:\n",
    "    $$\n",
    "    \\hat{G}(s) = \\frac{\\frac{K}{s^4+10s^3+35s^2+50s+24}}{1+\\frac{K}{s^4+10s^3+35s^2+50s+24}} = \\frac{K}{s^4+10s^3+35s^2+50s+24 + K}\n",
    "    $$\n",
    "  \n",
    "  The new characteristic equation for the closed loop system is:\n",
    "  $$  \n",
    "  s^4+10s^3+35s^2+50s+24 + K = 0\n",
    "  $$\n",
    "  \n",
    "- 2. Build the Routh array\n",
    "\n",
    "|           |      |      |      |\n",
    "|  ------   |  ------   |  -   |  -   |\n",
    "| $s^4$     |  $1$   |  $35$   |  $24+K$   |\n",
    "| $s^{3}$   |  $10$   | $50$   |   $0$   |\n",
    "| $s^2$     |  $\\frac{10\\cdot35-50}{10}=30$  |   $24+K$    |      |\n",
    "| $s^{1}$   |  $42-\\frac{K}{3}$    |     |      |\n",
    "| $s^{0}$   |  $24+K$    |      |      |"
   ]
  },
  {
   "cell_type": "markdown",
   "id": "5a97e490",
   "metadata": {},
   "source": [
    "- How many sign changes?\n",
    "  - $42-K/3 > 0 \\rightarrow K < 126$ \n",
    "  - $K > -24$\n",
    "  - and solving the system of equations: $K < 126$\n",
    "    \n",
    "- When $K=-24$ we have a pole at the origin\n",
    "- When $K = 126$ the poles would be going from $Re<0$ to $Re>0$ (imaginary poles) and the system would be marginally stable\n",
    "\n",
    "Again,\n",
    "- We know the gain margin that we have\n",
    "- We do not know where the poles are exactly (we only know when they cross the imaginary axis)"
   ]
  },
  {
   "cell_type": "code",
   "execution_count": null,
   "id": "0ef59679",
   "metadata": {},
   "outputs": [],
   "source": [
    "K = 126"
   ]
  },
  {
   "cell_type": "code",
   "execution_count": null,
   "id": "22429afb",
   "metadata": {},
   "outputs": [],
   "source": [
    "sys = control.tf([K], [1, 10, 35, 50, 24+K])\n",
    "T_k, yout_k = control.step_response(sys)"
   ]
  },
  {
   "cell_type": "code",
   "execution_count": null,
   "id": "14784976",
   "metadata": {},
   "outputs": [
    {
     "data": {
      "image/png": "[encoded data removed]",
      "text/plain": [
       "<Figure size 640x480 with 1 Axes>"
      ]
     },
     "metadata": {},
     "output_type": "display_data"
    }
   ],
   "source": [
    "fig = plt.figure()\n",
    "\n",
    "plt.plot(T, yout, label='original')\n",
    "plt.plot(T_k, yout_k, label='feedback')\n",
    "plt.grid()\n",
    "plt.legend()\n",
    "plt.xlabel('Time (s)')\n",
    "plt.ylabel('Response');"
   ]
  },
  {
   "cell_type": "markdown",
   "id": "82e1a8fa",
   "metadata": {},
   "source": [
    "### Having additional requirements: time to half"
   ]
  },
  {
   "cell_type": "markdown",
   "id": "2b9d90a0",
   "metadata": {},
   "source": [
    "- Speed of the response depends on the position of the poles on the real axis\n",
    "   - The further from the imaginary axis, the faster the response (true for both stable and unstable poles)\n",
    "   - When $s=j\\omega$ (imaginary poles), the response is a sinusoid ($e^{j\\omega}$ is a sinusoid)\n",
    "   - the closer the poles are to the real axis, the slower the frequency of the response (i.e., slower oscillation)"
   ]
  },
  {
   "cell_type": "markdown",
   "id": "cfa07f66",
   "metadata": {},
   "source": [
    "- The time to half is the time for a signal to half (or double, if unstable) the initial signal in magnitude\n",
    "- Typical requirement, especially when dealing with systems that interact with humans: the system should not be too fast or too slow to respond\n",
    "\n",
    "- A time to half requirements is a requirement on the real part of the poles\n",
    "- We would like the poles to be to the left of a line called the _z-line_\n",
    "\n",
    "- Set $s=z+\\sigma_{des}$\n",
    "  - When $z=0$, $s=+\\sigma_{des}$, and the poles have the desired real part.\n",
    "\n",
    "- Given a characteristic equation $D(s)=0$\n",
    "$$\n",
    "s^3+5s^2+25s+30=0\n",
    "$$\n",
    "\n",
    "we replace $s=z+\\sigma_{des}$ (e.g $\\sigma_{des}$=-1)\n",
    "\n",
    "$$\n",
    "(z-1)^3+5(z-1)^2+25(z-1)+30=0\n",
    "$$\n",
    "\n",
    "$$\n",
    "\\Downarrow\n",
    "$$\n",
    "\n",
    "$$\n",
    "z^3+2z^2+18s+9=0\n",
    "$$\n",
    "\n",
    "- We can now use the Routh array to verify if the system has any roots to the right of the _z-line_\n",
    "\n",
    "|           |      |      |      |\n",
    "|  ------   |  ------   |  -   |  -   |\n",
    "| $s^3$     |  $1$   |  $18$   |     |\n",
    "| $s^{2}$   |  $2$   | $9$   |      |\n",
    "| $s^1$     |  $\\frac{27}{2}$  |     |      |\n",
    "| $s^{0}$   |  $9$    |     |      |\n",
    "\n",
    "- No sign changes in the first column: all roots are to the left side of $s=-1$."
   ]
  },
  {
   "cell_type": "markdown",
   "id": "1e60a807",
   "metadata": {},
   "source": [
    "### RHC Final Comments\n",
    "\n",
    "- RHC provides necessary and sufficient conditions to analyse the stability of a system\n",
    "- The stability analysis can be done with respect to any parameters of the system (including the gain $K$)\n",
    "- Building the routh array:\n",
    "  - when we have an all zero row, the roots of the auxiliary polynomial are a subset of the roots of the original polinomial (i.e., of the characteristic equation of the system)\n",
    "  - the roots of the auxiliary polynomial are symmetric with respect to the origin (i.e., wrt real and imaginary axis)."
   ]
  },
  {
   "cell_type": "code",
   "execution_count": null,
   "id": "ce9bb21f",
   "metadata": {},
   "outputs": [],
   "source": []
  }
 ],
 "metadata": {
  "kernelspec": {
   "display_name": "Python 3 (ipykernel)",
   "language": "python",
   "name": "python3"
  }
 },
 "nbformat": 4,
 "nbformat_minor": 5
}
