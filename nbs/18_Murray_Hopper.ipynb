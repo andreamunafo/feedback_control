{
 "cells": [
  {
   "cell_type": "markdown",
   "id": "4a922a7d",
   "metadata": {},
   "source": [
    "# Grace Murray Hopper (1906-1992): A legacy of innovation and service\n",
    "\n",
    "\n",
    "<tr>\n",
    "<td> <img src=\"img/Hopper.jpg\" alt=\"Hopper\" style=\"width: 300px;\"/> </td>\n",
    "</tr>\n",
    "\n",
    "\n",
    "\n",
    "Grace Brewster Murray Hopper was a pioneering computer scientist and mathematician who made significant contributions to the development of computer programming languages. \n",
    "\n",
    "Born in 1906, she began her career teaching mathematics at Vassar College before joining the United States Navy during World War II. It was during her time in the Navy that she worked on the Harvard Mark I computer. After leaving Harvard she joined Eckert-Mauchly Computer Corporation (Remington Rand) in Philadelphia.\n",
    "\n",
    "In Philadelphia Hopper undertook some of her most influential work. As head programmer for Remington Rand, she worked on the UNIVAC I (Universal Automatic Computer). In 1952 her programming team developed the first computer language “compiler” called A-0. This invention revolutionized programming and made it possible to write code in a more natural language, making programming accessible to a wider range of people. \n",
    "Hopper continued to work in the computer industry throughout her career and was known for her leadership in the development of COBOL, one of the first high-level programming languages. She passed away in 1992 but is remembered as a trailblazer for women in STEM and for her contributions to the field of computer science.\n",
    "\n",
    "**Hopper came of age at a time of unusual opportunity for women. A relatively high number of women were receiving doctorates in the 1920s and 1930s — numbers that would not be matched again until the 1980s.** World War II also created opportunities for women to enter the workforce in greater numbers. Nonetheless, Hopper’s success in a male-dominated field and in male-dominated organizations, including the U.S. Navy, was exceptional."
   ]
  },
  {
   "cell_type": "markdown",
   "id": "3fc885c0",
   "metadata": {},
   "source": [
    "------"
   ]
  },
  {
   "cell_type": "markdown",
   "id": "fc2ef620",
   "metadata": {},
   "source": [
    "<tr>\n",
    "<td> <img src=\"img/submarine-cables.jpeg\" alt=\"submarine-cables\" style=\"width: 700px;\"/> </td>\n",
    "</tr>"
   ]
  },
  {
   "cell_type": "code",
   "execution_count": null,
   "id": "47a0a0b5",
   "metadata": {},
   "outputs": [],
   "source": []
  }
 ],
 "metadata": {
  "kernelspec": {
   "display_name": "Python 3 (ipykernel)",
   "language": "python",
   "name": "python3"
  }
 },
 "nbformat": 4,
 "nbformat_minor": 5
}
